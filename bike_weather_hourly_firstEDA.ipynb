{
 "cells": [
  {
   "cell_type": "code",
   "execution_count": 2,
   "metadata": {},
   "outputs": [
    {
     "data": {
      "text/html": [
       "<div>\n",
       "<style scoped>\n",
       "    .dataframe tbody tr th:only-of-type {\n",
       "        vertical-align: middle;\n",
       "    }\n",
       "\n",
       "    .dataframe tbody tr th {\n",
       "        vertical-align: top;\n",
       "    }\n",
       "\n",
       "    .dataframe thead th {\n",
       "        text-align: right;\n",
       "    }\n",
       "</style>\n",
       "<table border=\"1\" class=\"dataframe\">\n",
       "  <thead>\n",
       "    <tr style=\"text-align: right;\">\n",
       "      <th></th>\n",
       "      <th>Casual</th>\n",
       "      <th>Date</th>\n",
       "      <th>Hour</th>\n",
       "      <th>Member</th>\n",
       "      <th>Total_rides</th>\n",
       "      <th>relativehumidity_2m (%)</th>\n",
       "      <th>temperature_2m (°C)</th>\n",
       "      <th>weathercode (wmo code)</th>\n",
       "      <th>windspeed_10m (km/h)</th>\n",
       "    </tr>\n",
       "  </thead>\n",
       "  <tbody>\n",
       "    <tr>\n",
       "      <th>0</th>\n",
       "      <td>20.0</td>\n",
       "      <td>2021-01-01</td>\n",
       "      <td>0</td>\n",
       "      <td>26.0</td>\n",
       "      <td>46.0</td>\n",
       "      <td>90</td>\n",
       "      <td>2.4</td>\n",
       "      <td>1</td>\n",
       "      <td>10.2</td>\n",
       "    </tr>\n",
       "    <tr>\n",
       "      <th>1</th>\n",
       "      <td>23.0</td>\n",
       "      <td>2021-01-01</td>\n",
       "      <td>1</td>\n",
       "      <td>23.0</td>\n",
       "      <td>46.0</td>\n",
       "      <td>88</td>\n",
       "      <td>1.8</td>\n",
       "      <td>1</td>\n",
       "      <td>10.0</td>\n",
       "    </tr>\n",
       "    <tr>\n",
       "      <th>2</th>\n",
       "      <td>20.0</td>\n",
       "      <td>2021-01-01</td>\n",
       "      <td>2</td>\n",
       "      <td>28.0</td>\n",
       "      <td>48.0</td>\n",
       "      <td>87</td>\n",
       "      <td>1.1</td>\n",
       "      <td>2</td>\n",
       "      <td>10.1</td>\n",
       "    </tr>\n",
       "    <tr>\n",
       "      <th>3</th>\n",
       "      <td>9.0</td>\n",
       "      <td>2021-01-01</td>\n",
       "      <td>3</td>\n",
       "      <td>7.0</td>\n",
       "      <td>16.0</td>\n",
       "      <td>81</td>\n",
       "      <td>1.6</td>\n",
       "      <td>2</td>\n",
       "      <td>10.6</td>\n",
       "    </tr>\n",
       "    <tr>\n",
       "      <th>4</th>\n",
       "      <td>7.0</td>\n",
       "      <td>2021-01-01</td>\n",
       "      <td>4</td>\n",
       "      <td>5.0</td>\n",
       "      <td>12.0</td>\n",
       "      <td>77</td>\n",
       "      <td>1.6</td>\n",
       "      <td>2</td>\n",
       "      <td>9.9</td>\n",
       "    </tr>\n",
       "  </tbody>\n",
       "</table>\n",
       "</div>"
      ],
      "text/plain": [
       "   Casual        Date  Hour  Member  Total_rides  relativehumidity_2m (%)  \\\n",
       "0    20.0  2021-01-01     0    26.0         46.0                       90   \n",
       "1    23.0  2021-01-01     1    23.0         46.0                       88   \n",
       "2    20.0  2021-01-01     2    28.0         48.0                       87   \n",
       "3     9.0  2021-01-01     3     7.0         16.0                       81   \n",
       "4     7.0  2021-01-01     4     5.0         12.0                       77   \n",
       "\n",
       "   temperature_2m (°C)  weathercode (wmo code)  windspeed_10m (km/h)  \n",
       "0                  2.4                       1                  10.2  \n",
       "1                  1.8                       1                  10.0  \n",
       "2                  1.1                       2                  10.1  \n",
       "3                  1.6                       2                  10.6  \n",
       "4                  1.6                       2                   9.9  "
      ]
     },
     "execution_count": 2,
     "metadata": {},
     "output_type": "execute_result"
    }
   ],
   "source": [
    "import pandas as pd\n",
    "import numpy as np\n",
    "import matplotlib.pyplot as plt\n",
    "import seaborn as sns\n",
    "df =pd.read_csv(\"CBS_2021-2023_Hourly_Weather.csv\", sep =',')\n",
    "\n",
    "df.head()"
   ]
  },
  {
   "cell_type": "code",
   "execution_count": 10,
   "metadata": {},
   "outputs": [
    {
     "data": {
      "text/plain": [
       "Casual                     float64\n",
       "Date                        object\n",
       "Hour                         int64\n",
       "Member                     float64\n",
       "Total_rides                float64\n",
       "relativehumidity_2m (%)      int64\n",
       "temperature_2m (°C)        float64\n",
       "weathercode (wmo code)       int64\n",
       "windspeed_10m (km/h)       float64\n",
       "dtype: object"
      ]
     },
     "execution_count": 10,
     "metadata": {},
     "output_type": "execute_result"
    }
   ],
   "source": [
    "df.dtypes"
   ]
  },
  {
   "cell_type": "code",
   "execution_count": 11,
   "metadata": {},
   "outputs": [
    {
     "name": "stdout",
     "output_type": "stream",
     "text": [
      "Info of the DataFrame:\n",
      " \n",
      "\n",
      "<class 'pandas.core.frame.DataFrame'>\n",
      "RangeIndex: 26280 entries, 0 to 26279\n",
      "Data columns (total 9 columns):\n",
      " #   Column                   Non-Null Count  Dtype  \n",
      "---  ------                   --------------  -----  \n",
      " 0   Casual                   26269 non-null  float64\n",
      " 1   Date                     26280 non-null  object \n",
      " 2   Hour                     26280 non-null  int64  \n",
      " 3   Member                   26269 non-null  float64\n",
      " 4   Total_rides              26269 non-null  float64\n",
      " 5   relativehumidity_2m (%)  26280 non-null  int64  \n",
      " 6   temperature_2m (°C)      26280 non-null  float64\n",
      " 7   weathercode (wmo code)   26280 non-null  int64  \n",
      " 8   windspeed_10m (km/h)     26280 non-null  float64\n",
      "dtypes: float64(5), int64(3), object(1)\n",
      "memory usage: 1.8+ MB\n"
     ]
    }
   ],
   "source": [
    "# Check info and dtypes of the dataframe\n",
    "print(\"Info of the DataFrame:\\n\", '\\n')\n",
    "df.info()"
   ]
  },
  {
   "cell_type": "markdown",
   "metadata": {},
   "source": [
    "maze letter panther town captain math accuse food craft promote return equip"
   ]
  },
  {
   "cell_type": "code",
   "execution_count": 5,
   "metadata": {},
   "outputs": [
    {
     "data": {
      "text/html": [
       "<div>\n",
       "<style scoped>\n",
       "    .dataframe tbody tr th:only-of-type {\n",
       "        vertical-align: middle;\n",
       "    }\n",
       "\n",
       "    .dataframe tbody tr th {\n",
       "        vertical-align: top;\n",
       "    }\n",
       "\n",
       "    .dataframe thead th {\n",
       "        text-align: right;\n",
       "    }\n",
       "</style>\n",
       "<table border=\"1\" class=\"dataframe\">\n",
       "  <thead>\n",
       "    <tr style=\"text-align: right;\">\n",
       "      <th></th>\n",
       "      <th>count</th>\n",
       "      <th>mean</th>\n",
       "      <th>std</th>\n",
       "      <th>min</th>\n",
       "      <th>25%</th>\n",
       "      <th>50%</th>\n",
       "      <th>75%</th>\n",
       "      <th>max</th>\n",
       "    </tr>\n",
       "  </thead>\n",
       "  <tbody>\n",
       "    <tr>\n",
       "      <th>Casual</th>\n",
       "      <td>26269.0</td>\n",
       "      <td>159.930070</td>\n",
       "      <td>167.330426</td>\n",
       "      <td>0.0</td>\n",
       "      <td>28.00</td>\n",
       "      <td>105.0</td>\n",
       "      <td>237.00</td>\n",
       "      <td>1206.0</td>\n",
       "    </tr>\n",
       "    <tr>\n",
       "      <th>Hour</th>\n",
       "      <td>26280.0</td>\n",
       "      <td>11.500000</td>\n",
       "      <td>6.922318</td>\n",
       "      <td>0.0</td>\n",
       "      <td>5.75</td>\n",
       "      <td>11.5</td>\n",
       "      <td>17.25</td>\n",
       "      <td>23.0</td>\n",
       "    </tr>\n",
       "    <tr>\n",
       "      <th>Member</th>\n",
       "      <td>26269.0</td>\n",
       "      <td>247.165632</td>\n",
       "      <td>225.283539</td>\n",
       "      <td>0.0</td>\n",
       "      <td>55.00</td>\n",
       "      <td>203.0</td>\n",
       "      <td>371.00</td>\n",
       "      <td>1534.0</td>\n",
       "    </tr>\n",
       "    <tr>\n",
       "      <th>Total_rides</th>\n",
       "      <td>26269.0</td>\n",
       "      <td>407.095702</td>\n",
       "      <td>373.005409</td>\n",
       "      <td>1.0</td>\n",
       "      <td>85.00</td>\n",
       "      <td>319.0</td>\n",
       "      <td>616.00</td>\n",
       "      <td>2262.0</td>\n",
       "    </tr>\n",
       "    <tr>\n",
       "      <th>relativehumidity_2m (%)</th>\n",
       "      <td>26280.0</td>\n",
       "      <td>62.967884</td>\n",
       "      <td>22.724320</td>\n",
       "      <td>5.0</td>\n",
       "      <td>46.00</td>\n",
       "      <td>64.0</td>\n",
       "      <td>82.00</td>\n",
       "      <td>100.0</td>\n",
       "    </tr>\n",
       "    <tr>\n",
       "      <th>temperature_2m (°C)</th>\n",
       "      <td>26280.0</td>\n",
       "      <td>14.412782</td>\n",
       "      <td>10.285751</td>\n",
       "      <td>-14.6</td>\n",
       "      <td>6.10</td>\n",
       "      <td>14.8</td>\n",
       "      <td>22.70</td>\n",
       "      <td>41.5</td>\n",
       "    </tr>\n",
       "    <tr>\n",
       "      <th>weathercode (wmo code)</th>\n",
       "      <td>26280.0</td>\n",
       "      <td>7.228311</td>\n",
       "      <td>17.630961</td>\n",
       "      <td>0.0</td>\n",
       "      <td>0.00</td>\n",
       "      <td>1.0</td>\n",
       "      <td>2.00</td>\n",
       "      <td>75.0</td>\n",
       "    </tr>\n",
       "    <tr>\n",
       "      <th>windspeed_10m (km/h)</th>\n",
       "      <td>26280.0</td>\n",
       "      <td>10.171298</td>\n",
       "      <td>5.261033</td>\n",
       "      <td>0.0</td>\n",
       "      <td>6.50</td>\n",
       "      <td>9.2</td>\n",
       "      <td>12.90</td>\n",
       "      <td>40.1</td>\n",
       "    </tr>\n",
       "  </tbody>\n",
       "</table>\n",
       "</div>"
      ],
      "text/plain": [
       "                           count        mean         std   min    25%    50%  \\\n",
       "Casual                   26269.0  159.930070  167.330426   0.0  28.00  105.0   \n",
       "Hour                     26280.0   11.500000    6.922318   0.0   5.75   11.5   \n",
       "Member                   26269.0  247.165632  225.283539   0.0  55.00  203.0   \n",
       "Total_rides              26269.0  407.095702  373.005409   1.0  85.00  319.0   \n",
       "relativehumidity_2m (%)  26280.0   62.967884   22.724320   5.0  46.00   64.0   \n",
       "temperature_2m (°C)      26280.0   14.412782   10.285751 -14.6   6.10   14.8   \n",
       "weathercode (wmo code)   26280.0    7.228311   17.630961   0.0   0.00    1.0   \n",
       "windspeed_10m (km/h)     26280.0   10.171298    5.261033   0.0   6.50    9.2   \n",
       "\n",
       "                            75%     max  \n",
       "Casual                   237.00  1206.0  \n",
       "Hour                      17.25    23.0  \n",
       "Member                   371.00  1534.0  \n",
       "Total_rides              616.00  2262.0  \n",
       "relativehumidity_2m (%)   82.00   100.0  \n",
       "temperature_2m (°C)       22.70    41.5  \n",
       "weathercode (wmo code)     2.00    75.0  \n",
       "windspeed_10m (km/h)      12.90    40.1  "
      ]
     },
     "execution_count": 5,
     "metadata": {},
     "output_type": "execute_result"
    }
   ],
   "source": [
    "df.describe().T"
   ]
  },
  {
   "cell_type": "code",
   "execution_count": 6,
   "metadata": {},
   "outputs": [
    {
     "data": {
      "text/plain": [
       "Casual                     11\n",
       "Date                        0\n",
       "Hour                        0\n",
       "Member                     11\n",
       "Total_rides                11\n",
       "relativehumidity_2m (%)     0\n",
       "temperature_2m (°C)         0\n",
       "weathercode (wmo code)      0\n",
       "windspeed_10m (km/h)        0\n",
       "dtype: int64"
      ]
     },
     "execution_count": 6,
     "metadata": {},
     "output_type": "execute_result"
    }
   ],
   "source": [
    "# Checking for NULLs in the data\n",
    "df.isnull().sum()"
   ]
  },
  {
   "cell_type": "code",
   "execution_count": 7,
   "metadata": {},
   "outputs": [
    {
     "data": {
      "text/plain": [
       "np.int64(0)"
      ]
     },
     "execution_count": 7,
     "metadata": {},
     "output_type": "execute_result"
    }
   ],
   "source": [
    "#Check for duplicates\n",
    "df.duplicated().sum()"
   ]
  },
  {
   "cell_type": "code",
   "execution_count": 8,
   "metadata": {},
   "outputs": [],
   "source": [
    "string_col = df.select_dtypes(include=\"object\").columns"
   ]
  },
  {
   "cell_type": "code",
   "execution_count": 9,
   "metadata": {},
   "outputs": [
    {
     "data": {
      "text/html": [
       "<div>\n",
       "<style scoped>\n",
       "    .dataframe tbody tr th:only-of-type {\n",
       "        vertical-align: middle;\n",
       "    }\n",
       "\n",
       "    .dataframe tbody tr th {\n",
       "        vertical-align: top;\n",
       "    }\n",
       "\n",
       "    .dataframe thead th {\n",
       "        text-align: right;\n",
       "    }\n",
       "</style>\n",
       "<table border=\"1\" class=\"dataframe\">\n",
       "  <thead>\n",
       "    <tr style=\"text-align: right;\">\n",
       "      <th></th>\n",
       "      <th>Date</th>\n",
       "    </tr>\n",
       "  </thead>\n",
       "  <tbody>\n",
       "    <tr>\n",
       "      <th>0</th>\n",
       "      <td>2021-01-01</td>\n",
       "    </tr>\n",
       "    <tr>\n",
       "      <th>1</th>\n",
       "      <td>2021-01-01</td>\n",
       "    </tr>\n",
       "    <tr>\n",
       "      <th>2</th>\n",
       "      <td>2021-01-01</td>\n",
       "    </tr>\n",
       "    <tr>\n",
       "      <th>3</th>\n",
       "      <td>2021-01-01</td>\n",
       "    </tr>\n",
       "    <tr>\n",
       "      <th>4</th>\n",
       "      <td>2021-01-01</td>\n",
       "    </tr>\n",
       "  </tbody>\n",
       "</table>\n",
       "</div>"
      ],
      "text/plain": [
       "         Date\n",
       "0  2021-01-01\n",
       "1  2021-01-01\n",
       "2  2021-01-01\n",
       "3  2021-01-01\n",
       "4  2021-01-01"
      ]
     },
     "execution_count": 9,
     "metadata": {},
     "output_type": "execute_result"
    }
   ],
   "source": [
    "df[string_col].head()"
   ]
  }
 ],
 "metadata": {
  "kernelspec": {
   "display_name": "EDA",
   "language": "python",
   "name": "python3"
  },
  "language_info": {
   "codemirror_mode": {
    "name": "ipython",
    "version": 3
   },
   "file_extension": ".py",
   "mimetype": "text/x-python",
   "name": "python",
   "nbconvert_exporter": "python",
   "pygments_lexer": "ipython3",
   "version": "3.12.9"
  }
 },
 "nbformat": 4,
 "nbformat_minor": 2
}
