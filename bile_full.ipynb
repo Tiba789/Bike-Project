{
 "cells": [
  {
   "cell_type": "code",
   "execution_count": 1,
   "metadata": {},
   "outputs": [
    {
     "name": "stderr",
     "output_type": "stream",
     "text": [
      "C:\\Users\\Tiba\\AppData\\Local\\Temp\\ipykernel_16440\\2513428885.py:5: DtypeWarning: Columns (5,7) have mixed types. Specify dtype option on import or set low_memory=False.\n",
      "  df =pd.read_csv(\"CBS_2021-2023_Full.csv\", sep =',')\n"
     ]
    },
    {
     "data": {
      "text/html": [
       "<div>\n",
       "<style scoped>\n",
       "    .dataframe tbody tr th:only-of-type {\n",
       "        vertical-align: middle;\n",
       "    }\n",
       "\n",
       "    .dataframe tbody tr th {\n",
       "        vertical-align: top;\n",
       "    }\n",
       "\n",
       "    .dataframe thead th {\n",
       "        text-align: right;\n",
       "    }\n",
       "</style>\n",
       "<table border=\"1\" class=\"dataframe\">\n",
       "  <thead>\n",
       "    <tr style=\"text-align: right;\">\n",
       "      <th></th>\n",
       "      <th>ride_id</th>\n",
       "      <th>rideable_type</th>\n",
       "      <th>started_at</th>\n",
       "      <th>ended_at</th>\n",
       "      <th>start_station_name</th>\n",
       "      <th>start_station_id</th>\n",
       "      <th>end_station_name</th>\n",
       "      <th>end_station_id</th>\n",
       "      <th>start_lat</th>\n",
       "      <th>start_lng</th>\n",
       "      <th>end_lat</th>\n",
       "      <th>end_lng</th>\n",
       "      <th>member_casual</th>\n",
       "    </tr>\n",
       "  </thead>\n",
       "  <tbody>\n",
       "    <tr>\n",
       "      <th>0</th>\n",
       "      <td>5CB9DFCECF79AF84</td>\n",
       "      <td>classic_bike</td>\n",
       "      <td>2021-01-01 00:08:33</td>\n",
       "      <td>2021-01-01 00:33:53</td>\n",
       "      <td>Maine Ave &amp; 9th St SW</td>\n",
       "      <td>31646.0</td>\n",
       "      <td>Rosslyn Metro / Wilson Blvd &amp; Ft Myer Dr</td>\n",
       "      <td>31015.0</td>\n",
       "      <td>38.880440</td>\n",
       "      <td>-77.025236</td>\n",
       "      <td>38.894600</td>\n",
       "      <td>-77.072305</td>\n",
       "      <td>member</td>\n",
       "    </tr>\n",
       "    <tr>\n",
       "      <th>1</th>\n",
       "      <td>629E059504606547</td>\n",
       "      <td>electric_bike</td>\n",
       "      <td>2021-01-01 00:13:43</td>\n",
       "      <td>2021-01-01 00:29:34</td>\n",
       "      <td>10th &amp; U St NW</td>\n",
       "      <td>31111.0</td>\n",
       "      <td>NaN</td>\n",
       "      <td>NaN</td>\n",
       "      <td>38.917193</td>\n",
       "      <td>-77.025894</td>\n",
       "      <td>38.960000</td>\n",
       "      <td>-77.020000</td>\n",
       "      <td>casual</td>\n",
       "    </tr>\n",
       "    <tr>\n",
       "      <th>2</th>\n",
       "      <td>E74069873161EE33</td>\n",
       "      <td>electric_bike</td>\n",
       "      <td>2021-01-01 00:14:32</td>\n",
       "      <td>2021-01-01 00:28:45</td>\n",
       "      <td>17th &amp; Corcoran St NW</td>\n",
       "      <td>31214.0</td>\n",
       "      <td>14th &amp; Belmont St NW</td>\n",
       "      <td>31119.0</td>\n",
       "      <td>38.912138</td>\n",
       "      <td>-77.038568</td>\n",
       "      <td>38.920870</td>\n",
       "      <td>-77.031691</td>\n",
       "      <td>member</td>\n",
       "    </tr>\n",
       "    <tr>\n",
       "      <th>3</th>\n",
       "      <td>91F95E512CABC46A</td>\n",
       "      <td>classic_bike</td>\n",
       "      <td>2021-01-01 00:15:45</td>\n",
       "      <td>2021-01-01 00:21:20</td>\n",
       "      <td>Wilson Blvd. &amp; N. Vermont St.</td>\n",
       "      <td>31926.0</td>\n",
       "      <td>Wilson Blvd. &amp; N. Vermont St.</td>\n",
       "      <td>31926.0</td>\n",
       "      <td>38.879477</td>\n",
       "      <td>-77.114563</td>\n",
       "      <td>38.879477</td>\n",
       "      <td>-77.114563</td>\n",
       "      <td>member</td>\n",
       "    </tr>\n",
       "    <tr>\n",
       "      <th>4</th>\n",
       "      <td>DA46A05139C0EA2F</td>\n",
       "      <td>classic_bike</td>\n",
       "      <td>2021-01-01 00:17:46</td>\n",
       "      <td>2021-01-01 00:21:00</td>\n",
       "      <td>11th &amp; Park Rd NW</td>\n",
       "      <td>31651.0</td>\n",
       "      <td>14th &amp; Newton St NW</td>\n",
       "      <td>31649.0</td>\n",
       "      <td>38.931322</td>\n",
       "      <td>-77.028247</td>\n",
       "      <td>38.931991</td>\n",
       "      <td>-77.032956</td>\n",
       "      <td>member</td>\n",
       "    </tr>\n",
       "  </tbody>\n",
       "</table>\n",
       "</div>"
      ],
      "text/plain": [
       "            ride_id  rideable_type           started_at             ended_at  \\\n",
       "0  5CB9DFCECF79AF84   classic_bike  2021-01-01 00:08:33  2021-01-01 00:33:53   \n",
       "1  629E059504606547  electric_bike  2021-01-01 00:13:43  2021-01-01 00:29:34   \n",
       "2  E74069873161EE33  electric_bike  2021-01-01 00:14:32  2021-01-01 00:28:45   \n",
       "3  91F95E512CABC46A   classic_bike  2021-01-01 00:15:45  2021-01-01 00:21:20   \n",
       "4  DA46A05139C0EA2F   classic_bike  2021-01-01 00:17:46  2021-01-01 00:21:00   \n",
       "\n",
       "              start_station_name start_station_id  \\\n",
       "0          Maine Ave & 9th St SW          31646.0   \n",
       "1                 10th & U St NW          31111.0   \n",
       "2          17th & Corcoran St NW          31214.0   \n",
       "3  Wilson Blvd. & N. Vermont St.          31926.0   \n",
       "4              11th & Park Rd NW          31651.0   \n",
       "\n",
       "                           end_station_name end_station_id  start_lat  \\\n",
       "0  Rosslyn Metro / Wilson Blvd & Ft Myer Dr        31015.0  38.880440   \n",
       "1                                       NaN            NaN  38.917193   \n",
       "2                      14th & Belmont St NW        31119.0  38.912138   \n",
       "3             Wilson Blvd. & N. Vermont St.        31926.0  38.879477   \n",
       "4                       14th & Newton St NW        31649.0  38.931322   \n",
       "\n",
       "   start_lng    end_lat    end_lng member_casual  \n",
       "0 -77.025236  38.894600 -77.072305        member  \n",
       "1 -77.025894  38.960000 -77.020000        casual  \n",
       "2 -77.038568  38.920870 -77.031691        member  \n",
       "3 -77.114563  38.879477 -77.114563        member  \n",
       "4 -77.028247  38.931991 -77.032956        member  "
      ]
     },
     "execution_count": 1,
     "metadata": {},
     "output_type": "execute_result"
    }
   ],
   "source": [
    "import pandas as pd\n",
    "import numpy as np\n",
    "import matplotlib.pyplot as plt\n",
    "import seaborn as sns\n",
    "df =pd.read_csv(\"CBS_2021-2023_Full.csv\", sep =',')\n",
    "\n",
    "df.head()"
   ]
  },
  {
   "cell_type": "code",
   "execution_count": 3,
   "metadata": {},
   "outputs": [
    {
     "data": {
      "text/html": [
       "<div>\n",
       "<style scoped>\n",
       "    .dataframe tbody tr th:only-of-type {\n",
       "        vertical-align: middle;\n",
       "    }\n",
       "\n",
       "    .dataframe tbody tr th {\n",
       "        vertical-align: top;\n",
       "    }\n",
       "\n",
       "    .dataframe thead th {\n",
       "        text-align: right;\n",
       "    }\n",
       "</style>\n",
       "<table border=\"1\" class=\"dataframe\">\n",
       "  <thead>\n",
       "    <tr style=\"text-align: right;\">\n",
       "      <th></th>\n",
       "      <th>ride_id</th>\n",
       "      <th>rideable_type</th>\n",
       "      <th>started_at</th>\n",
       "      <th>ended_at</th>\n",
       "      <th>start_station_name</th>\n",
       "      <th>start_station_id</th>\n",
       "      <th>end_station_name</th>\n",
       "      <th>end_station_id</th>\n",
       "      <th>start_lat</th>\n",
       "      <th>start_lng</th>\n",
       "      <th>end_lat</th>\n",
       "      <th>end_lng</th>\n",
       "      <th>member_casual</th>\n",
       "    </tr>\n",
       "  </thead>\n",
       "  <tbody>\n",
       "    <tr>\n",
       "      <th>1</th>\n",
       "      <td>629E059504606547</td>\n",
       "      <td>electric_bike</td>\n",
       "      <td>2021-01-01 00:13:43</td>\n",
       "      <td>2021-01-01 00:29:34</td>\n",
       "      <td>10th &amp; U St NW</td>\n",
       "      <td>31111.0</td>\n",
       "      <td>NaN</td>\n",
       "      <td>NaN</td>\n",
       "      <td>38.917193</td>\n",
       "      <td>-77.025894</td>\n",
       "      <td>38.96</td>\n",
       "      <td>-77.02</td>\n",
       "      <td>casual</td>\n",
       "    </tr>\n",
       "    <tr>\n",
       "      <th>7</th>\n",
       "      <td>78894BDABD9F21DD</td>\n",
       "      <td>electric_bike</td>\n",
       "      <td>2021-01-01 00:20:40</td>\n",
       "      <td>2021-01-01 00:35:36</td>\n",
       "      <td>Columbia Rd &amp; Georgia Ave NW</td>\n",
       "      <td>31115.0</td>\n",
       "      <td>NaN</td>\n",
       "      <td>NaN</td>\n",
       "      <td>38.928081</td>\n",
       "      <td>-77.023768</td>\n",
       "      <td>38.90</td>\n",
       "      <td>-77.02</td>\n",
       "      <td>casual</td>\n",
       "    </tr>\n",
       "    <tr>\n",
       "      <th>17</th>\n",
       "      <td>3F8AFD9540FF8EDB</td>\n",
       "      <td>electric_bike</td>\n",
       "      <td>2021-01-01 00:26:41</td>\n",
       "      <td>2021-01-01 00:30:09</td>\n",
       "      <td>14th &amp; Harvard St NW</td>\n",
       "      <td>31105.0</td>\n",
       "      <td>NaN</td>\n",
       "      <td>NaN</td>\n",
       "      <td>38.926715</td>\n",
       "      <td>-77.032145</td>\n",
       "      <td>38.93</td>\n",
       "      <td>-77.04</td>\n",
       "      <td>member</td>\n",
       "    </tr>\n",
       "    <tr>\n",
       "      <th>20</th>\n",
       "      <td>997E8E08C493F034</td>\n",
       "      <td>electric_bike</td>\n",
       "      <td>2021-01-01 00:27:18</td>\n",
       "      <td>2021-01-01 00:34:30</td>\n",
       "      <td>NaN</td>\n",
       "      <td>NaN</td>\n",
       "      <td>NaN</td>\n",
       "      <td>NaN</td>\n",
       "      <td>38.990000</td>\n",
       "      <td>-77.030000</td>\n",
       "      <td>38.99</td>\n",
       "      <td>-77.03</td>\n",
       "      <td>member</td>\n",
       "    </tr>\n",
       "    <tr>\n",
       "      <th>21</th>\n",
       "      <td>F1F87FA560990FC7</td>\n",
       "      <td>electric_bike</td>\n",
       "      <td>2021-01-01 00:28:39</td>\n",
       "      <td>2021-01-01 00:41:31</td>\n",
       "      <td>Connecticut Ave &amp; Newark St NW / Cleveland Park</td>\n",
       "      <td>31305.0</td>\n",
       "      <td>NaN</td>\n",
       "      <td>NaN</td>\n",
       "      <td>38.934253</td>\n",
       "      <td>-77.058010</td>\n",
       "      <td>38.92</td>\n",
       "      <td>-77.07</td>\n",
       "      <td>member</td>\n",
       "    </tr>\n",
       "  </tbody>\n",
       "</table>\n",
       "</div>"
      ],
      "text/plain": [
       "             ride_id  rideable_type           started_at             ended_at  \\\n",
       "1   629E059504606547  electric_bike  2021-01-01 00:13:43  2021-01-01 00:29:34   \n",
       "7   78894BDABD9F21DD  electric_bike  2021-01-01 00:20:40  2021-01-01 00:35:36   \n",
       "17  3F8AFD9540FF8EDB  electric_bike  2021-01-01 00:26:41  2021-01-01 00:30:09   \n",
       "20  997E8E08C493F034  electric_bike  2021-01-01 00:27:18  2021-01-01 00:34:30   \n",
       "21  F1F87FA560990FC7  electric_bike  2021-01-01 00:28:39  2021-01-01 00:41:31   \n",
       "\n",
       "                                 start_station_name start_station_id  \\\n",
       "1                                    10th & U St NW          31111.0   \n",
       "7                      Columbia Rd & Georgia Ave NW          31115.0   \n",
       "17                             14th & Harvard St NW          31105.0   \n",
       "20                                              NaN              NaN   \n",
       "21  Connecticut Ave & Newark St NW / Cleveland Park          31305.0   \n",
       "\n",
       "   end_station_name end_station_id  start_lat  start_lng  end_lat  end_lng  \\\n",
       "1               NaN            NaN  38.917193 -77.025894    38.96   -77.02   \n",
       "7               NaN            NaN  38.928081 -77.023768    38.90   -77.02   \n",
       "17              NaN            NaN  38.926715 -77.032145    38.93   -77.04   \n",
       "20              NaN            NaN  38.990000 -77.030000    38.99   -77.03   \n",
       "21              NaN            NaN  38.934253 -77.058010    38.92   -77.07   \n",
       "\n",
       "   member_casual  \n",
       "1         casual  \n",
       "7         casual  \n",
       "17        member  \n",
       "20        member  \n",
       "21        member  "
      ]
     },
     "execution_count": 3,
     "metadata": {},
     "output_type": "execute_result"
    }
   ],
   "source": [
    "dropped_bikes_filtered = df[\n",
    "    df['end_station_name'].isna() & \n",
    "    df['end_lat'].notna() & \n",
    "    df['end_lng'].notna()]\n",
    "dropped_bikes_filtered.head()"
   ]
  },
  {
   "cell_type": "code",
   "execution_count": 4,
   "metadata": {},
   "outputs": [
    {
     "name": "stderr",
     "output_type": "stream",
     "text": [
      "C:\\Users\\Tiba\\AppData\\Local\\Temp\\ipykernel_3808\\4154272882.py:7: DtypeWarning: Columns (5,7) have mixed types. Specify dtype option on import or set low_memory=False.\n",
      "  df_bike = pd.read_csv(\"CBS_2021-2023_Full.csv\", sep =',')\n"
     ]
    },
    {
     "ename": "TypeError",
     "evalue": "unhashable type: 'numpy.ndarray'",
     "output_type": "error",
     "traceback": [
      "\u001b[1;31m---------------------------------------------------------------------------\u001b[0m",
      "\u001b[1;31mTypeError\u001b[0m                                 Traceback (most recent call last)",
      "Cell \u001b[1;32mIn[4], line 23\u001b[0m\n\u001b[0;32m     20\u001b[0m df_bike_daily\u001b[38;5;241m.\u001b[39mcolumns \u001b[38;5;241m=\u001b[39m [\u001b[38;5;124m'\u001b[39m\u001b[38;5;124mdate\u001b[39m\u001b[38;5;124m'\u001b[39m, \u001b[38;5;124m'\u001b[39m\u001b[38;5;124mstation_name\u001b[39m\u001b[38;5;124m'\u001b[39m, \u001b[38;5;124m'\u001b[39m\u001b[38;5;124mstation_id\u001b[39m\u001b[38;5;124m'\u001b[39m, \u001b[38;5;124m'\u001b[39m\u001b[38;5;124mcount_name\u001b[39m\u001b[38;5;124m'\u001b[39m, \u001b[38;5;124m'\u001b[39m\u001b[38;5;124mcount_id\u001b[39m\u001b[38;5;124m'\u001b[39m]\n\u001b[0;32m     22\u001b[0m \u001b[38;5;66;03m# Berechnen der Summe der Benutzungen jeder Station pro Tag\u001b[39;00m\n\u001b[1;32m---> 23\u001b[0m df_bike_daily_sum \u001b[38;5;241m=\u001b[39m \u001b[43mdf_bike_daily\u001b[49m\u001b[38;5;241;43m.\u001b[39;49m\u001b[43mgroupby\u001b[49m\u001b[43m(\u001b[49m\u001b[43m[\u001b[49m\u001b[38;5;124;43m'\u001b[39;49m\u001b[38;5;124;43mdate\u001b[39;49m\u001b[38;5;124;43m'\u001b[39;49m\u001b[43m,\u001b[49m\u001b[43m \u001b[49m\u001b[38;5;124;43m'\u001b[39;49m\u001b[38;5;124;43mstation_name\u001b[39;49m\u001b[38;5;124;43m'\u001b[39;49m\u001b[43m,\u001b[49m\u001b[43m \u001b[49m\u001b[38;5;124;43m'\u001b[39;49m\u001b[38;5;124;43mstation_id\u001b[39;49m\u001b[38;5;124;43m'\u001b[39;49m\u001b[43m,\u001b[49m\u001b[43m \u001b[49m\u001b[38;5;124;43m'\u001b[39;49m\u001b[38;5;124;43mcount_id\u001b[39;49m\u001b[38;5;124;43m'\u001b[39;49m\u001b[43m]\u001b[49m\u001b[43m)\u001b[49m\u001b[38;5;241;43m.\u001b[39;49m\u001b[43msum\u001b[49m\u001b[43m(\u001b[49m\u001b[43m)\u001b[49m\u001b[38;5;241m.\u001b[39mreset_index()\n\u001b[0;32m     25\u001b[0m \u001b[38;5;66;03m# Speichern des aggregierten DataFrames in einer neuen CSV-Datei\u001b[39;00m\n\u001b[0;32m     26\u001b[0m df_bike_daily_sum\u001b[38;5;241m.\u001b[39mto_csv(\u001b[38;5;124m\"\u001b[39m\u001b[38;5;124mCBS_2021-2023_Station_Usage_Daily.csv\u001b[39m\u001b[38;5;124m\"\u001b[39m, index\u001b[38;5;241m=\u001b[39m\u001b[38;5;28;01mFalse\u001b[39;00m)\n",
      "File \u001b[1;32mc:\\Users\\Tiba\\anaconda3\\envs\\EDA\\Lib\\site-packages\\pandas\\core\\groupby\\groupby.py:3146\u001b[0m, in \u001b[0;36mGroupBy.sum\u001b[1;34m(self, numeric_only, min_count, engine, engine_kwargs)\u001b[0m\n\u001b[0;32m   3141\u001b[0m \u001b[38;5;28;01melse\u001b[39;00m:\n\u001b[0;32m   3142\u001b[0m     \u001b[38;5;66;03m# If we are grouping on categoricals we want unobserved categories to\u001b[39;00m\n\u001b[0;32m   3143\u001b[0m     \u001b[38;5;66;03m# return zero, rather than the default of NaN which the reindexing in\u001b[39;00m\n\u001b[0;32m   3144\u001b[0m     \u001b[38;5;66;03m# _agg_general() returns. GH #31422\u001b[39;00m\n\u001b[0;32m   3145\u001b[0m     \u001b[38;5;28;01mwith\u001b[39;00m com\u001b[38;5;241m.\u001b[39mtemp_setattr(\u001b[38;5;28mself\u001b[39m, \u001b[38;5;124m\"\u001b[39m\u001b[38;5;124mobserved\u001b[39m\u001b[38;5;124m\"\u001b[39m, \u001b[38;5;28;01mTrue\u001b[39;00m):\n\u001b[1;32m-> 3146\u001b[0m         result \u001b[38;5;241m=\u001b[39m \u001b[38;5;28;43mself\u001b[39;49m\u001b[38;5;241;43m.\u001b[39;49m\u001b[43m_agg_general\u001b[49m\u001b[43m(\u001b[49m\n\u001b[0;32m   3147\u001b[0m \u001b[43m            \u001b[49m\u001b[43mnumeric_only\u001b[49m\u001b[38;5;241;43m=\u001b[39;49m\u001b[43mnumeric_only\u001b[49m\u001b[43m,\u001b[49m\n\u001b[0;32m   3148\u001b[0m \u001b[43m            \u001b[49m\u001b[43mmin_count\u001b[49m\u001b[38;5;241;43m=\u001b[39;49m\u001b[43mmin_count\u001b[49m\u001b[43m,\u001b[49m\n\u001b[0;32m   3149\u001b[0m \u001b[43m            \u001b[49m\u001b[43malias\u001b[49m\u001b[38;5;241;43m=\u001b[39;49m\u001b[38;5;124;43m\"\u001b[39;49m\u001b[38;5;124;43msum\u001b[39;49m\u001b[38;5;124;43m\"\u001b[39;49m\u001b[43m,\u001b[49m\n\u001b[0;32m   3150\u001b[0m \u001b[43m            \u001b[49m\u001b[43mnpfunc\u001b[49m\u001b[38;5;241;43m=\u001b[39;49m\u001b[43mnp\u001b[49m\u001b[38;5;241;43m.\u001b[39;49m\u001b[43msum\u001b[49m\u001b[43m,\u001b[49m\n\u001b[0;32m   3151\u001b[0m \u001b[43m        \u001b[49m\u001b[43m)\u001b[49m\n\u001b[0;32m   3153\u001b[0m     \u001b[38;5;28;01mreturn\u001b[39;00m \u001b[38;5;28mself\u001b[39m\u001b[38;5;241m.\u001b[39m_reindex_output(result, fill_value\u001b[38;5;241m=\u001b[39m\u001b[38;5;241m0\u001b[39m)\n",
      "File \u001b[1;32mc:\\Users\\Tiba\\anaconda3\\envs\\EDA\\Lib\\site-packages\\pandas\\core\\groupby\\groupby.py:1906\u001b[0m, in \u001b[0;36mGroupBy._agg_general\u001b[1;34m(self, numeric_only, min_count, alias, npfunc, **kwargs)\u001b[0m\n\u001b[0;32m   1896\u001b[0m \u001b[38;5;129m@final\u001b[39m\n\u001b[0;32m   1897\u001b[0m \u001b[38;5;28;01mdef\u001b[39;00m\u001b[38;5;250m \u001b[39m\u001b[38;5;21m_agg_general\u001b[39m(\n\u001b[0;32m   1898\u001b[0m     \u001b[38;5;28mself\u001b[39m,\n\u001b[1;32m   (...)\u001b[0m\n\u001b[0;32m   1904\u001b[0m     \u001b[38;5;241m*\u001b[39m\u001b[38;5;241m*\u001b[39mkwargs,\n\u001b[0;32m   1905\u001b[0m ):\n\u001b[1;32m-> 1906\u001b[0m     result \u001b[38;5;241m=\u001b[39m \u001b[38;5;28;43mself\u001b[39;49m\u001b[38;5;241;43m.\u001b[39;49m\u001b[43m_cython_agg_general\u001b[49m\u001b[43m(\u001b[49m\n\u001b[0;32m   1907\u001b[0m \u001b[43m        \u001b[49m\u001b[43mhow\u001b[49m\u001b[38;5;241;43m=\u001b[39;49m\u001b[43malias\u001b[49m\u001b[43m,\u001b[49m\n\u001b[0;32m   1908\u001b[0m \u001b[43m        \u001b[49m\u001b[43malt\u001b[49m\u001b[38;5;241;43m=\u001b[39;49m\u001b[43mnpfunc\u001b[49m\u001b[43m,\u001b[49m\n\u001b[0;32m   1909\u001b[0m \u001b[43m        \u001b[49m\u001b[43mnumeric_only\u001b[49m\u001b[38;5;241;43m=\u001b[39;49m\u001b[43mnumeric_only\u001b[49m\u001b[43m,\u001b[49m\n\u001b[0;32m   1910\u001b[0m \u001b[43m        \u001b[49m\u001b[43mmin_count\u001b[49m\u001b[38;5;241;43m=\u001b[39;49m\u001b[43mmin_count\u001b[49m\u001b[43m,\u001b[49m\n\u001b[0;32m   1911\u001b[0m \u001b[43m        \u001b[49m\u001b[38;5;241;43m*\u001b[39;49m\u001b[38;5;241;43m*\u001b[39;49m\u001b[43mkwargs\u001b[49m\u001b[43m,\u001b[49m\n\u001b[0;32m   1912\u001b[0m \u001b[43m    \u001b[49m\u001b[43m)\u001b[49m\n\u001b[0;32m   1913\u001b[0m     \u001b[38;5;28;01mreturn\u001b[39;00m result\u001b[38;5;241m.\u001b[39m__finalize__(\u001b[38;5;28mself\u001b[39m\u001b[38;5;241m.\u001b[39mobj, method\u001b[38;5;241m=\u001b[39m\u001b[38;5;124m\"\u001b[39m\u001b[38;5;124mgroupby\u001b[39m\u001b[38;5;124m\"\u001b[39m)\n",
      "File \u001b[1;32mc:\\Users\\Tiba\\anaconda3\\envs\\EDA\\Lib\\site-packages\\pandas\\core\\groupby\\groupby.py:1998\u001b[0m, in \u001b[0;36mGroupBy._cython_agg_general\u001b[1;34m(self, how, alt, numeric_only, min_count, **kwargs)\u001b[0m\n\u001b[0;32m   1995\u001b[0m     result \u001b[38;5;241m=\u001b[39m \u001b[38;5;28mself\u001b[39m\u001b[38;5;241m.\u001b[39m_agg_py_fallback(how, values, ndim\u001b[38;5;241m=\u001b[39mdata\u001b[38;5;241m.\u001b[39mndim, alt\u001b[38;5;241m=\u001b[39malt)\n\u001b[0;32m   1996\u001b[0m     \u001b[38;5;28;01mreturn\u001b[39;00m result\n\u001b[1;32m-> 1998\u001b[0m new_mgr \u001b[38;5;241m=\u001b[39m \u001b[43mdata\u001b[49m\u001b[38;5;241;43m.\u001b[39;49m\u001b[43mgrouped_reduce\u001b[49m\u001b[43m(\u001b[49m\u001b[43marray_func\u001b[49m\u001b[43m)\u001b[49m\n\u001b[0;32m   1999\u001b[0m res \u001b[38;5;241m=\u001b[39m \u001b[38;5;28mself\u001b[39m\u001b[38;5;241m.\u001b[39m_wrap_agged_manager(new_mgr)\n\u001b[0;32m   2000\u001b[0m \u001b[38;5;28;01mif\u001b[39;00m how \u001b[38;5;129;01min\u001b[39;00m [\u001b[38;5;124m\"\u001b[39m\u001b[38;5;124midxmin\u001b[39m\u001b[38;5;124m\"\u001b[39m, \u001b[38;5;124m\"\u001b[39m\u001b[38;5;124midxmax\u001b[39m\u001b[38;5;124m\"\u001b[39m]:\n",
      "File \u001b[1;32mc:\\Users\\Tiba\\anaconda3\\envs\\EDA\\Lib\\site-packages\\pandas\\core\\internals\\managers.py:1469\u001b[0m, in \u001b[0;36mBlockManager.grouped_reduce\u001b[1;34m(self, func)\u001b[0m\n\u001b[0;32m   1465\u001b[0m \u001b[38;5;28;01mif\u001b[39;00m blk\u001b[38;5;241m.\u001b[39mis_object:\n\u001b[0;32m   1466\u001b[0m     \u001b[38;5;66;03m# split on object-dtype blocks bc some columns may raise\u001b[39;00m\n\u001b[0;32m   1467\u001b[0m     \u001b[38;5;66;03m#  while others do not.\u001b[39;00m\n\u001b[0;32m   1468\u001b[0m     \u001b[38;5;28;01mfor\u001b[39;00m sb \u001b[38;5;129;01min\u001b[39;00m blk\u001b[38;5;241m.\u001b[39m_split():\n\u001b[1;32m-> 1469\u001b[0m         applied \u001b[38;5;241m=\u001b[39m \u001b[43msb\u001b[49m\u001b[38;5;241;43m.\u001b[39;49m\u001b[43mapply\u001b[49m\u001b[43m(\u001b[49m\u001b[43mfunc\u001b[49m\u001b[43m)\u001b[49m\n\u001b[0;32m   1470\u001b[0m         result_blocks \u001b[38;5;241m=\u001b[39m extend_blocks(applied, result_blocks)\n\u001b[0;32m   1471\u001b[0m \u001b[38;5;28;01melse\u001b[39;00m:\n",
      "File \u001b[1;32mc:\\Users\\Tiba\\anaconda3\\envs\\EDA\\Lib\\site-packages\\pandas\\core\\internals\\blocks.py:393\u001b[0m, in \u001b[0;36mBlock.apply\u001b[1;34m(self, func, **kwargs)\u001b[0m\n\u001b[0;32m    387\u001b[0m \u001b[38;5;129m@final\u001b[39m\n\u001b[0;32m    388\u001b[0m \u001b[38;5;28;01mdef\u001b[39;00m\u001b[38;5;250m \u001b[39m\u001b[38;5;21mapply\u001b[39m(\u001b[38;5;28mself\u001b[39m, func, \u001b[38;5;241m*\u001b[39m\u001b[38;5;241m*\u001b[39mkwargs) \u001b[38;5;241m-\u001b[39m\u001b[38;5;241m>\u001b[39m \u001b[38;5;28mlist\u001b[39m[Block]:\n\u001b[0;32m    389\u001b[0m \u001b[38;5;250m    \u001b[39m\u001b[38;5;124;03m\"\"\"\u001b[39;00m\n\u001b[0;32m    390\u001b[0m \u001b[38;5;124;03m    apply the function to my values; return a block if we are not\u001b[39;00m\n\u001b[0;32m    391\u001b[0m \u001b[38;5;124;03m    one\u001b[39;00m\n\u001b[0;32m    392\u001b[0m \u001b[38;5;124;03m    \"\"\"\u001b[39;00m\n\u001b[1;32m--> 393\u001b[0m     result \u001b[38;5;241m=\u001b[39m \u001b[43mfunc\u001b[49m\u001b[43m(\u001b[49m\u001b[38;5;28;43mself\u001b[39;49m\u001b[38;5;241;43m.\u001b[39;49m\u001b[43mvalues\u001b[49m\u001b[43m,\u001b[49m\u001b[43m \u001b[49m\u001b[38;5;241;43m*\u001b[39;49m\u001b[38;5;241;43m*\u001b[39;49m\u001b[43mkwargs\u001b[49m\u001b[43m)\u001b[49m\n\u001b[0;32m    395\u001b[0m     result \u001b[38;5;241m=\u001b[39m maybe_coerce_values(result)\n\u001b[0;32m    396\u001b[0m     \u001b[38;5;28;01mreturn\u001b[39;00m \u001b[38;5;28mself\u001b[39m\u001b[38;5;241m.\u001b[39m_split_op_result(result)\n",
      "File \u001b[1;32mc:\\Users\\Tiba\\anaconda3\\envs\\EDA\\Lib\\site-packages\\pandas\\core\\groupby\\groupby.py:1973\u001b[0m, in \u001b[0;36mGroupBy._cython_agg_general.<locals>.array_func\u001b[1;34m(values)\u001b[0m\n\u001b[0;32m   1971\u001b[0m \u001b[38;5;28;01mdef\u001b[39;00m\u001b[38;5;250m \u001b[39m\u001b[38;5;21marray_func\u001b[39m(values: ArrayLike) \u001b[38;5;241m-\u001b[39m\u001b[38;5;241m>\u001b[39m ArrayLike:\n\u001b[0;32m   1972\u001b[0m     \u001b[38;5;28;01mtry\u001b[39;00m:\n\u001b[1;32m-> 1973\u001b[0m         result \u001b[38;5;241m=\u001b[39m \u001b[38;5;28;43mself\u001b[39;49m\u001b[38;5;241;43m.\u001b[39;49m\u001b[43m_grouper\u001b[49m\u001b[38;5;241;43m.\u001b[39;49m\u001b[43m_cython_operation\u001b[49m\u001b[43m(\u001b[49m\n\u001b[0;32m   1974\u001b[0m \u001b[43m            \u001b[49m\u001b[38;5;124;43m\"\u001b[39;49m\u001b[38;5;124;43maggregate\u001b[39;49m\u001b[38;5;124;43m\"\u001b[39;49m\u001b[43m,\u001b[49m\n\u001b[0;32m   1975\u001b[0m \u001b[43m            \u001b[49m\u001b[43mvalues\u001b[49m\u001b[43m,\u001b[49m\n\u001b[0;32m   1976\u001b[0m \u001b[43m            \u001b[49m\u001b[43mhow\u001b[49m\u001b[43m,\u001b[49m\n\u001b[0;32m   1977\u001b[0m \u001b[43m            \u001b[49m\u001b[43maxis\u001b[49m\u001b[38;5;241;43m=\u001b[39;49m\u001b[43mdata\u001b[49m\u001b[38;5;241;43m.\u001b[39;49m\u001b[43mndim\u001b[49m\u001b[43m \u001b[49m\u001b[38;5;241;43m-\u001b[39;49m\u001b[43m \u001b[49m\u001b[38;5;241;43m1\u001b[39;49m\u001b[43m,\u001b[49m\n\u001b[0;32m   1978\u001b[0m \u001b[43m            \u001b[49m\u001b[43mmin_count\u001b[49m\u001b[38;5;241;43m=\u001b[39;49m\u001b[43mmin_count\u001b[49m\u001b[43m,\u001b[49m\n\u001b[0;32m   1979\u001b[0m \u001b[43m            \u001b[49m\u001b[38;5;241;43m*\u001b[39;49m\u001b[38;5;241;43m*\u001b[39;49m\u001b[43mkwargs\u001b[49m\u001b[43m,\u001b[49m\n\u001b[0;32m   1980\u001b[0m \u001b[43m        \u001b[49m\u001b[43m)\u001b[49m\n\u001b[0;32m   1981\u001b[0m     \u001b[38;5;28;01mexcept\u001b[39;00m \u001b[38;5;167;01mNotImplementedError\u001b[39;00m:\n\u001b[0;32m   1982\u001b[0m         \u001b[38;5;66;03m# generally if we have numeric_only=False\u001b[39;00m\n\u001b[0;32m   1983\u001b[0m         \u001b[38;5;66;03m# and non-applicable functions\u001b[39;00m\n\u001b[0;32m   1984\u001b[0m         \u001b[38;5;66;03m# try to python agg\u001b[39;00m\n\u001b[0;32m   1985\u001b[0m         \u001b[38;5;66;03m# TODO: shouldn't min_count matter?\u001b[39;00m\n\u001b[0;32m   1986\u001b[0m         \u001b[38;5;66;03m# TODO: avoid special casing SparseArray here\u001b[39;00m\n\u001b[0;32m   1987\u001b[0m         \u001b[38;5;28;01mif\u001b[39;00m how \u001b[38;5;129;01min\u001b[39;00m [\u001b[38;5;124m\"\u001b[39m\u001b[38;5;124many\u001b[39m\u001b[38;5;124m\"\u001b[39m, \u001b[38;5;124m\"\u001b[39m\u001b[38;5;124mall\u001b[39m\u001b[38;5;124m\"\u001b[39m] \u001b[38;5;129;01mand\u001b[39;00m \u001b[38;5;28misinstance\u001b[39m(values, SparseArray):\n",
      "File \u001b[1;32mc:\\Users\\Tiba\\anaconda3\\envs\\EDA\\Lib\\site-packages\\pandas\\core\\groupby\\ops.py:827\u001b[0m, in \u001b[0;36mBaseGrouper._cython_operation\u001b[1;34m(self, kind, values, how, axis, min_count, **kwargs)\u001b[0m\n\u001b[0;32m    822\u001b[0m \u001b[38;5;250m\u001b[39m\u001b[38;5;124;03m\"\"\"\u001b[39;00m\n\u001b[0;32m    823\u001b[0m \u001b[38;5;124;03mReturns the values of a cython operation.\u001b[39;00m\n\u001b[0;32m    824\u001b[0m \u001b[38;5;124;03m\"\"\"\u001b[39;00m\n\u001b[0;32m    825\u001b[0m \u001b[38;5;28;01massert\u001b[39;00m kind \u001b[38;5;129;01min\u001b[39;00m [\u001b[38;5;124m\"\u001b[39m\u001b[38;5;124mtransform\u001b[39m\u001b[38;5;124m\"\u001b[39m, \u001b[38;5;124m\"\u001b[39m\u001b[38;5;124maggregate\u001b[39m\u001b[38;5;124m\"\u001b[39m]\n\u001b[1;32m--> 827\u001b[0m cy_op \u001b[38;5;241m=\u001b[39m WrappedCythonOp(kind\u001b[38;5;241m=\u001b[39mkind, how\u001b[38;5;241m=\u001b[39mhow, has_dropped_na\u001b[38;5;241m=\u001b[39m\u001b[38;5;28;43mself\u001b[39;49m\u001b[38;5;241;43m.\u001b[39;49m\u001b[43mhas_dropped_na\u001b[49m)\n\u001b[0;32m    829\u001b[0m ids, _, _ \u001b[38;5;241m=\u001b[39m \u001b[38;5;28mself\u001b[39m\u001b[38;5;241m.\u001b[39mgroup_info\n\u001b[0;32m    830\u001b[0m ngroups \u001b[38;5;241m=\u001b[39m \u001b[38;5;28mself\u001b[39m\u001b[38;5;241m.\u001b[39mngroups\n",
      "File \u001b[1;32mproperties.pyx:36\u001b[0m, in \u001b[0;36mpandas._libs.properties.CachedProperty.__get__\u001b[1;34m()\u001b[0m\n",
      "File \u001b[1;32mc:\\Users\\Tiba\\anaconda3\\envs\\EDA\\Lib\\site-packages\\pandas\\core\\groupby\\ops.py:741\u001b[0m, in \u001b[0;36mBaseGrouper.has_dropped_na\u001b[1;34m(self)\u001b[0m\n\u001b[0;32m    735\u001b[0m \u001b[38;5;129m@final\u001b[39m\n\u001b[0;32m    736\u001b[0m \u001b[38;5;129m@cache_readonly\u001b[39m\n\u001b[0;32m    737\u001b[0m \u001b[38;5;28;01mdef\u001b[39;00m\u001b[38;5;250m \u001b[39m\u001b[38;5;21mhas_dropped_na\u001b[39m(\u001b[38;5;28mself\u001b[39m) \u001b[38;5;241m-\u001b[39m\u001b[38;5;241m>\u001b[39m \u001b[38;5;28mbool\u001b[39m:\n\u001b[0;32m    738\u001b[0m \u001b[38;5;250m    \u001b[39m\u001b[38;5;124;03m\"\"\"\u001b[39;00m\n\u001b[0;32m    739\u001b[0m \u001b[38;5;124;03m    Whether grouper has null value(s) that are dropped.\u001b[39;00m\n\u001b[0;32m    740\u001b[0m \u001b[38;5;124;03m    \"\"\"\u001b[39;00m\n\u001b[1;32m--> 741\u001b[0m     \u001b[38;5;28;01mreturn\u001b[39;00m \u001b[38;5;28mbool\u001b[39m((\u001b[38;5;28;43mself\u001b[39;49m\u001b[38;5;241;43m.\u001b[39;49m\u001b[43mgroup_info\u001b[49m[\u001b[38;5;241m0\u001b[39m] \u001b[38;5;241m<\u001b[39m \u001b[38;5;241m0\u001b[39m)\u001b[38;5;241m.\u001b[39many())\n",
      "File \u001b[1;32mproperties.pyx:36\u001b[0m, in \u001b[0;36mpandas._libs.properties.CachedProperty.__get__\u001b[1;34m()\u001b[0m\n",
      "File \u001b[1;32mc:\\Users\\Tiba\\anaconda3\\envs\\EDA\\Lib\\site-packages\\pandas\\core\\groupby\\ops.py:745\u001b[0m, in \u001b[0;36mBaseGrouper.group_info\u001b[1;34m(self)\u001b[0m\n\u001b[0;32m    743\u001b[0m \u001b[38;5;129m@cache_readonly\u001b[39m\n\u001b[0;32m    744\u001b[0m \u001b[38;5;28;01mdef\u001b[39;00m\u001b[38;5;250m \u001b[39m\u001b[38;5;21mgroup_info\u001b[39m(\u001b[38;5;28mself\u001b[39m) \u001b[38;5;241m-\u001b[39m\u001b[38;5;241m>\u001b[39m \u001b[38;5;28mtuple\u001b[39m[npt\u001b[38;5;241m.\u001b[39mNDArray[np\u001b[38;5;241m.\u001b[39mintp], npt\u001b[38;5;241m.\u001b[39mNDArray[np\u001b[38;5;241m.\u001b[39mintp], \u001b[38;5;28mint\u001b[39m]:\n\u001b[1;32m--> 745\u001b[0m     comp_ids, obs_group_ids \u001b[38;5;241m=\u001b[39m \u001b[38;5;28;43mself\u001b[39;49m\u001b[38;5;241;43m.\u001b[39;49m\u001b[43m_get_compressed_codes\u001b[49m\u001b[43m(\u001b[49m\u001b[43m)\u001b[49m\n\u001b[0;32m    747\u001b[0m     ngroups \u001b[38;5;241m=\u001b[39m \u001b[38;5;28mlen\u001b[39m(obs_group_ids)\n\u001b[0;32m    748\u001b[0m     comp_ids \u001b[38;5;241m=\u001b[39m ensure_platform_int(comp_ids)\n",
      "File \u001b[1;32mc:\\Users\\Tiba\\anaconda3\\envs\\EDA\\Lib\\site-packages\\pandas\\core\\groupby\\ops.py:764\u001b[0m, in \u001b[0;36mBaseGrouper._get_compressed_codes\u001b[1;34m(self)\u001b[0m\n\u001b[0;32m    758\u001b[0m \u001b[38;5;129m@final\u001b[39m\n\u001b[0;32m    759\u001b[0m \u001b[38;5;28;01mdef\u001b[39;00m\u001b[38;5;250m \u001b[39m\u001b[38;5;21m_get_compressed_codes\u001b[39m(\n\u001b[0;32m    760\u001b[0m     \u001b[38;5;28mself\u001b[39m,\n\u001b[0;32m    761\u001b[0m ) \u001b[38;5;241m-\u001b[39m\u001b[38;5;241m>\u001b[39m \u001b[38;5;28mtuple\u001b[39m[npt\u001b[38;5;241m.\u001b[39mNDArray[np\u001b[38;5;241m.\u001b[39msignedinteger], npt\u001b[38;5;241m.\u001b[39mNDArray[np\u001b[38;5;241m.\u001b[39mintp]]:\n\u001b[0;32m    762\u001b[0m     \u001b[38;5;66;03m# The first returned ndarray may have any signed integer dtype\u001b[39;00m\n\u001b[0;32m    763\u001b[0m     \u001b[38;5;28;01mif\u001b[39;00m \u001b[38;5;28mlen\u001b[39m(\u001b[38;5;28mself\u001b[39m\u001b[38;5;241m.\u001b[39mgroupings) \u001b[38;5;241m>\u001b[39m \u001b[38;5;241m1\u001b[39m:\n\u001b[1;32m--> 764\u001b[0m         group_index \u001b[38;5;241m=\u001b[39m get_group_index(\u001b[38;5;28;43mself\u001b[39;49m\u001b[38;5;241;43m.\u001b[39;49m\u001b[43mcodes\u001b[49m, \u001b[38;5;28mself\u001b[39m\u001b[38;5;241m.\u001b[39mshape, sort\u001b[38;5;241m=\u001b[39m\u001b[38;5;28;01mTrue\u001b[39;00m, xnull\u001b[38;5;241m=\u001b[39m\u001b[38;5;28;01mTrue\u001b[39;00m)\n\u001b[0;32m    765\u001b[0m         \u001b[38;5;28;01mreturn\u001b[39;00m compress_group_index(group_index, sort\u001b[38;5;241m=\u001b[39m\u001b[38;5;28mself\u001b[39m\u001b[38;5;241m.\u001b[39m_sort)\n\u001b[0;32m    766\u001b[0m         \u001b[38;5;66;03m# FIXME: compress_group_index's second return value is int64, not intp\u001b[39;00m\n",
      "File \u001b[1;32mc:\\Users\\Tiba\\anaconda3\\envs\\EDA\\Lib\\site-packages\\pandas\\core\\groupby\\ops.py:690\u001b[0m, in \u001b[0;36mBaseGrouper.codes\u001b[1;34m(self)\u001b[0m\n\u001b[0;32m    687\u001b[0m \u001b[38;5;129m@final\u001b[39m\n\u001b[0;32m    688\u001b[0m \u001b[38;5;129m@property\u001b[39m\n\u001b[0;32m    689\u001b[0m \u001b[38;5;28;01mdef\u001b[39;00m\u001b[38;5;250m \u001b[39m\u001b[38;5;21mcodes\u001b[39m(\u001b[38;5;28mself\u001b[39m) \u001b[38;5;241m-\u001b[39m\u001b[38;5;241m>\u001b[39m \u001b[38;5;28mlist\u001b[39m[npt\u001b[38;5;241m.\u001b[39mNDArray[np\u001b[38;5;241m.\u001b[39msignedinteger]]:\n\u001b[1;32m--> 690\u001b[0m     \u001b[38;5;28;01mreturn\u001b[39;00m [\u001b[43mping\u001b[49m\u001b[38;5;241;43m.\u001b[39;49m\u001b[43mcodes\u001b[49m \u001b[38;5;28;01mfor\u001b[39;00m ping \u001b[38;5;129;01min\u001b[39;00m \u001b[38;5;28mself\u001b[39m\u001b[38;5;241m.\u001b[39mgroupings]\n",
      "File \u001b[1;32mc:\\Users\\Tiba\\anaconda3\\envs\\EDA\\Lib\\site-packages\\pandas\\core\\groupby\\grouper.py:691\u001b[0m, in \u001b[0;36mGrouping.codes\u001b[1;34m(self)\u001b[0m\n\u001b[0;32m    689\u001b[0m \u001b[38;5;129m@property\u001b[39m\n\u001b[0;32m    690\u001b[0m \u001b[38;5;28;01mdef\u001b[39;00m\u001b[38;5;250m \u001b[39m\u001b[38;5;21mcodes\u001b[39m(\u001b[38;5;28mself\u001b[39m) \u001b[38;5;241m-\u001b[39m\u001b[38;5;241m>\u001b[39m npt\u001b[38;5;241m.\u001b[39mNDArray[np\u001b[38;5;241m.\u001b[39msignedinteger]:\n\u001b[1;32m--> 691\u001b[0m     \u001b[38;5;28;01mreturn\u001b[39;00m \u001b[38;5;28;43mself\u001b[39;49m\u001b[38;5;241;43m.\u001b[39;49m\u001b[43m_codes_and_uniques\u001b[49m[\u001b[38;5;241m0\u001b[39m]\n",
      "File \u001b[1;32mproperties.pyx:36\u001b[0m, in \u001b[0;36mpandas._libs.properties.CachedProperty.__get__\u001b[1;34m()\u001b[0m\n",
      "File \u001b[1;32mc:\\Users\\Tiba\\anaconda3\\envs\\EDA\\Lib\\site-packages\\pandas\\core\\groupby\\grouper.py:835\u001b[0m, in \u001b[0;36mGrouping._codes_and_uniques\u001b[1;34m(self)\u001b[0m\n\u001b[0;32m    830\u001b[0m     uniques \u001b[38;5;241m=\u001b[39m \u001b[38;5;28mself\u001b[39m\u001b[38;5;241m.\u001b[39m_uniques\n\u001b[0;32m    831\u001b[0m \u001b[38;5;28;01melse\u001b[39;00m:\n\u001b[0;32m    832\u001b[0m     \u001b[38;5;66;03m# GH35667, replace dropna=False with use_na_sentinel=False\u001b[39;00m\n\u001b[0;32m    833\u001b[0m     \u001b[38;5;66;03m# error: Incompatible types in assignment (expression has type \"Union[\u001b[39;00m\n\u001b[0;32m    834\u001b[0m     \u001b[38;5;66;03m# ndarray[Any, Any], Index]\", variable has type \"Categorical\")\u001b[39;00m\n\u001b[1;32m--> 835\u001b[0m     codes, uniques \u001b[38;5;241m=\u001b[39m \u001b[43malgorithms\u001b[49m\u001b[38;5;241;43m.\u001b[39;49m\u001b[43mfactorize\u001b[49m\u001b[43m(\u001b[49m\u001b[43m  \u001b[49m\u001b[38;5;66;43;03m# type: ignore[assignment]\u001b[39;49;00m\n\u001b[0;32m    836\u001b[0m \u001b[43m        \u001b[49m\u001b[38;5;28;43mself\u001b[39;49m\u001b[38;5;241;43m.\u001b[39;49m\u001b[43mgrouping_vector\u001b[49m\u001b[43m,\u001b[49m\u001b[43m \u001b[49m\u001b[43msort\u001b[49m\u001b[38;5;241;43m=\u001b[39;49m\u001b[38;5;28;43mself\u001b[39;49m\u001b[38;5;241;43m.\u001b[39;49m\u001b[43m_sort\u001b[49m\u001b[43m,\u001b[49m\u001b[43m \u001b[49m\u001b[43muse_na_sentinel\u001b[49m\u001b[38;5;241;43m=\u001b[39;49m\u001b[38;5;28;43mself\u001b[39;49m\u001b[38;5;241;43m.\u001b[39;49m\u001b[43m_dropna\u001b[49m\n\u001b[0;32m    837\u001b[0m \u001b[43m    \u001b[49m\u001b[43m)\u001b[49m\n\u001b[0;32m    838\u001b[0m \u001b[38;5;28;01mreturn\u001b[39;00m codes, uniques\n",
      "File \u001b[1;32mc:\\Users\\Tiba\\anaconda3\\envs\\EDA\\Lib\\site-packages\\pandas\\core\\algorithms.py:795\u001b[0m, in \u001b[0;36mfactorize\u001b[1;34m(values, sort, use_na_sentinel, size_hint)\u001b[0m\n\u001b[0;32m    792\u001b[0m             \u001b[38;5;66;03m# Don't modify (potentially user-provided) array\u001b[39;00m\n\u001b[0;32m    793\u001b[0m             values \u001b[38;5;241m=\u001b[39m np\u001b[38;5;241m.\u001b[39mwhere(null_mask, na_value, values)\n\u001b[1;32m--> 795\u001b[0m     codes, uniques \u001b[38;5;241m=\u001b[39m \u001b[43mfactorize_array\u001b[49m\u001b[43m(\u001b[49m\n\u001b[0;32m    796\u001b[0m \u001b[43m        \u001b[49m\u001b[43mvalues\u001b[49m\u001b[43m,\u001b[49m\n\u001b[0;32m    797\u001b[0m \u001b[43m        \u001b[49m\u001b[43muse_na_sentinel\u001b[49m\u001b[38;5;241;43m=\u001b[39;49m\u001b[43muse_na_sentinel\u001b[49m\u001b[43m,\u001b[49m\n\u001b[0;32m    798\u001b[0m \u001b[43m        \u001b[49m\u001b[43msize_hint\u001b[49m\u001b[38;5;241;43m=\u001b[39;49m\u001b[43msize_hint\u001b[49m\u001b[43m,\u001b[49m\n\u001b[0;32m    799\u001b[0m \u001b[43m    \u001b[49m\u001b[43m)\u001b[49m\n\u001b[0;32m    801\u001b[0m \u001b[38;5;28;01mif\u001b[39;00m sort \u001b[38;5;129;01mand\u001b[39;00m \u001b[38;5;28mlen\u001b[39m(uniques) \u001b[38;5;241m>\u001b[39m \u001b[38;5;241m0\u001b[39m:\n\u001b[0;32m    802\u001b[0m     uniques, codes \u001b[38;5;241m=\u001b[39m safe_sort(\n\u001b[0;32m    803\u001b[0m         uniques,\n\u001b[0;32m    804\u001b[0m         codes,\n\u001b[1;32m   (...)\u001b[0m\n\u001b[0;32m    807\u001b[0m         verify\u001b[38;5;241m=\u001b[39m\u001b[38;5;28;01mFalse\u001b[39;00m,\n\u001b[0;32m    808\u001b[0m     )\n",
      "File \u001b[1;32mc:\\Users\\Tiba\\anaconda3\\envs\\EDA\\Lib\\site-packages\\pandas\\core\\algorithms.py:595\u001b[0m, in \u001b[0;36mfactorize_array\u001b[1;34m(values, use_na_sentinel, size_hint, na_value, mask)\u001b[0m\n\u001b[0;32m    592\u001b[0m hash_klass, values \u001b[38;5;241m=\u001b[39m _get_hashtable_algo(values)\n\u001b[0;32m    594\u001b[0m table \u001b[38;5;241m=\u001b[39m hash_klass(size_hint \u001b[38;5;129;01mor\u001b[39;00m \u001b[38;5;28mlen\u001b[39m(values))\n\u001b[1;32m--> 595\u001b[0m uniques, codes \u001b[38;5;241m=\u001b[39m \u001b[43mtable\u001b[49m\u001b[38;5;241;43m.\u001b[39;49m\u001b[43mfactorize\u001b[49m\u001b[43m(\u001b[49m\n\u001b[0;32m    596\u001b[0m \u001b[43m    \u001b[49m\u001b[43mvalues\u001b[49m\u001b[43m,\u001b[49m\n\u001b[0;32m    597\u001b[0m \u001b[43m    \u001b[49m\u001b[43mna_sentinel\u001b[49m\u001b[38;5;241;43m=\u001b[39;49m\u001b[38;5;241;43m-\u001b[39;49m\u001b[38;5;241;43m1\u001b[39;49m\u001b[43m,\u001b[49m\n\u001b[0;32m    598\u001b[0m \u001b[43m    \u001b[49m\u001b[43mna_value\u001b[49m\u001b[38;5;241;43m=\u001b[39;49m\u001b[43mna_value\u001b[49m\u001b[43m,\u001b[49m\n\u001b[0;32m    599\u001b[0m \u001b[43m    \u001b[49m\u001b[43mmask\u001b[49m\u001b[38;5;241;43m=\u001b[39;49m\u001b[43mmask\u001b[49m\u001b[43m,\u001b[49m\n\u001b[0;32m    600\u001b[0m \u001b[43m    \u001b[49m\u001b[43mignore_na\u001b[49m\u001b[38;5;241;43m=\u001b[39;49m\u001b[43muse_na_sentinel\u001b[49m\u001b[43m,\u001b[49m\n\u001b[0;32m    601\u001b[0m \u001b[43m\u001b[49m\u001b[43m)\u001b[49m\n\u001b[0;32m    603\u001b[0m \u001b[38;5;66;03m# re-cast e.g. i8->dt64/td64, uint8->bool\u001b[39;00m\n\u001b[0;32m    604\u001b[0m uniques \u001b[38;5;241m=\u001b[39m _reconstruct_data(uniques, original\u001b[38;5;241m.\u001b[39mdtype, original)\n",
      "File \u001b[1;32mpandas\\\\_libs\\\\hashtable_class_helper.pxi:7281\u001b[0m, in \u001b[0;36mpandas._libs.hashtable.PyObjectHashTable.factorize\u001b[1;34m()\u001b[0m\n",
      "File \u001b[1;32mpandas\\\\_libs\\\\hashtable_class_helper.pxi:7195\u001b[0m, in \u001b[0;36mpandas._libs.hashtable.PyObjectHashTable._unique\u001b[1;34m()\u001b[0m\n",
      "\u001b[1;31mTypeError\u001b[0m: unhashable type: 'numpy.ndarray'"
     ]
    }
   ],
   "source": [
    "import pandas as pd\n",
    "import numpy as np\n",
    "import matplotlib.pyplot as plt\n",
    "import seaborn as sns\n",
    "\n",
    "# Laden der 5-Minuten-Daten und Filtern der relevanten Spalten\n",
    "df_bike = pd.read_csv(\"CBS_2021-2023_Full.csv\", sep =',')\n",
    "df_bike = df_bike[['started_at', 'start_station_name', 'end_station_name', 'start_station_id', 'end_station_id']]\n",
    "\n",
    "# Konvertieren der Zeitspalte in ein Datetime-Objekt\n",
    "df_bike['started_at'] = pd.to_datetime(df_bike['started_at'])\n",
    "\n",
    "# Setzen der Zeitspalte als Index\n",
    "df_bike.set_index('started_at', inplace=True)\n",
    "\n",
    "# Aggregieren der Daten auf tägliche Basis und Zählen der Benutzungen jeder Station\n",
    "df_bike_daily = df_bike.resample('D').apply(lambda x: x.value_counts()).reset_index()\n",
    "\n",
    "# Umbenennen der Spalten für Klarheit\n",
    "df_bike_daily.columns = ['date', 'station_name', 'station_id', 'count_name', 'count_id']\n",
    "\n",
    "# Berechnen der Summe der Benutzungen jeder Station pro Tag\n",
    "df_bike_daily_sum = df_bike_daily.groupby(['date', 'station_name', 'station_id', 'count_id']).sum().reset_index()\n",
    "\n",
    "# Speichern des aggregierten DataFrames in einer neuen CSV-Datei\n",
    "df_bike_daily_sum.to_csv(\"CBS_2021-2023_Station_Usage_Daily.csv\", index=False)\n",
    "\n",
    "# Anzeigen der ersten Zeilen des aggregierten DataFrames\n",
    "df_bike_daily_sum.head()"
   ]
  },
  {
   "cell_type": "code",
   "execution_count": null,
   "metadata": {},
   "outputs": [
    {
     "name": "stdout",
     "output_type": "stream",
     "text": [
      "Info of the DataFrame:\n",
      " \n",
      "\n",
      "<class 'pandas.core.frame.DataFrame'>\n",
      "RangeIndex: 10693997 entries, 0 to 10693996\n",
      "Data columns (total 13 columns):\n",
      " #   Column              Dtype  \n",
      "---  ------              -----  \n",
      " 0   ride_id             object \n",
      " 1   rideable_type       object \n",
      " 2   started_at          object \n",
      " 3   ended_at            object \n",
      " 4   start_station_name  object \n",
      " 5   start_station_id    object \n",
      " 6   end_station_name    object \n",
      " 7   end_station_id      object \n",
      " 8   start_lat           float64\n",
      " 9   start_lng           float64\n",
      " 10  end_lat             float64\n",
      " 11  end_lng             float64\n",
      " 12  member_casual       object \n",
      "dtypes: float64(4), object(9)\n",
      "memory usage: 1.0+ GB\n"
     ]
    }
   ],
   "source": [
    "# Check info and dtypes of the dataframe\n",
    "print(\"Info of the DataFrame:\\n\", '\\n')\n",
    "df.info()"
   ]
  },
  {
   "cell_type": "code",
   "execution_count": null,
   "metadata": {},
   "outputs": [
    {
     "data": {
      "text/plain": [
       "ride_id                object\n",
       "rideable_type          object\n",
       "started_at             object\n",
       "ended_at               object\n",
       "start_station_name     object\n",
       "start_station_id       object\n",
       "end_station_name       object\n",
       "end_station_id         object\n",
       "start_lat             float64\n",
       "start_lng             float64\n",
       "end_lat               float64\n",
       "end_lng               float64\n",
       "member_casual          object\n",
       "dtype: object"
      ]
     },
     "execution_count": 3,
     "metadata": {},
     "output_type": "execute_result"
    }
   ],
   "source": [
    "df.dtypes"
   ]
  },
  {
   "cell_type": "code",
   "execution_count": null,
   "metadata": {},
   "outputs": [
    {
     "data": {
      "text/html": [
       "<div>\n",
       "<style scoped>\n",
       "    .dataframe tbody tr th:only-of-type {\n",
       "        vertical-align: middle;\n",
       "    }\n",
       "\n",
       "    .dataframe tbody tr th {\n",
       "        vertical-align: top;\n",
       "    }\n",
       "\n",
       "    .dataframe thead th {\n",
       "        text-align: right;\n",
       "    }\n",
       "</style>\n",
       "<table border=\"1\" class=\"dataframe\">\n",
       "  <thead>\n",
       "    <tr style=\"text-align: right;\">\n",
       "      <th></th>\n",
       "      <th>count</th>\n",
       "      <th>mean</th>\n",
       "      <th>std</th>\n",
       "      <th>min</th>\n",
       "      <th>25%</th>\n",
       "      <th>50%</th>\n",
       "      <th>75%</th>\n",
       "      <th>max</th>\n",
       "    </tr>\n",
       "  </thead>\n",
       "  <tbody>\n",
       "    <tr>\n",
       "      <th>start_lat</th>\n",
       "      <td>10693995.0</td>\n",
       "      <td>38.903306</td>\n",
       "      <td>0.026842</td>\n",
       "      <td>38.76</td>\n",
       "      <td>38.890539</td>\n",
       "      <td>38.902760</td>\n",
       "      <td>38.914751</td>\n",
       "      <td>39.14</td>\n",
       "    </tr>\n",
       "    <tr>\n",
       "      <th>start_lng</th>\n",
       "      <td>10693995.0</td>\n",
       "      <td>-77.031872</td>\n",
       "      <td>0.033462</td>\n",
       "      <td>-77.40</td>\n",
       "      <td>-77.044609</td>\n",
       "      <td>-77.031617</td>\n",
       "      <td>-77.013667</td>\n",
       "      <td>-76.82</td>\n",
       "    </tr>\n",
       "    <tr>\n",
       "      <th>end_lat</th>\n",
       "      <td>10677232.0</td>\n",
       "      <td>38.902256</td>\n",
       "      <td>0.050493</td>\n",
       "      <td>0.00</td>\n",
       "      <td>38.890496</td>\n",
       "      <td>38.902314</td>\n",
       "      <td>38.912648</td>\n",
       "      <td>39.19</td>\n",
       "    </tr>\n",
       "    <tr>\n",
       "      <th>end_lng</th>\n",
       "      <td>10677232.0</td>\n",
       "      <td>-77.031463</td>\n",
       "      <td>0.091278</td>\n",
       "      <td>-77.56</td>\n",
       "      <td>-77.044661</td>\n",
       "      <td>-77.031500</td>\n",
       "      <td>-77.012808</td>\n",
       "      <td>0.00</td>\n",
       "    </tr>\n",
       "  </tbody>\n",
       "</table>\n",
       "</div>"
      ],
      "text/plain": [
       "                count       mean       std    min        25%        50%  \\\n",
       "start_lat  10693995.0  38.903306  0.026842  38.76  38.890539  38.902760   \n",
       "start_lng  10693995.0 -77.031872  0.033462 -77.40 -77.044609 -77.031617   \n",
       "end_lat    10677232.0  38.902256  0.050493   0.00  38.890496  38.902314   \n",
       "end_lng    10677232.0 -77.031463  0.091278 -77.56 -77.044661 -77.031500   \n",
       "\n",
       "                 75%    max  \n",
       "start_lat  38.914751  39.14  \n",
       "start_lng -77.013667 -76.82  \n",
       "end_lat    38.912648  39.19  \n",
       "end_lng   -77.012808   0.00  "
      ]
     },
     "execution_count": 4,
     "metadata": {},
     "output_type": "execute_result"
    }
   ],
   "source": [
    "df.describe().T"
   ]
  },
  {
   "cell_type": "code",
   "execution_count": null,
   "metadata": {},
   "outputs": [
    {
     "data": {
      "text/plain": [
       "ride_id                    0\n",
       "rideable_type              0\n",
       "started_at                 0\n",
       "ended_at                   0\n",
       "start_station_name    742776\n",
       "start_station_id      742776\n",
       "end_station_name      811282\n",
       "end_station_id        811282\n",
       "start_lat                  2\n",
       "start_lng                  2\n",
       "end_lat                16765\n",
       "end_lng                16765\n",
       "member_casual              0\n",
       "dtype: int64"
      ]
     },
     "execution_count": 5,
     "metadata": {},
     "output_type": "execute_result"
    }
   ],
   "source": [
    "# Checking for NULLs in the data\n",
    "df.isnull().sum()"
   ]
  },
  {
   "cell_type": "code",
   "execution_count": null,
   "metadata": {},
   "outputs": [
    {
     "data": {
      "text/plain": [
       "np.int64(0)"
      ]
     },
     "execution_count": 6,
     "metadata": {},
     "output_type": "execute_result"
    }
   ],
   "source": [
    "#Check for duplicates\n",
    "df.duplicated().sum()"
   ]
  },
  {
   "cell_type": "code",
   "execution_count": null,
   "metadata": {},
   "outputs": [],
   "source": [
    "string_col = df.select_dtypes(include=\"object\").columns"
   ]
  },
  {
   "cell_type": "code",
   "execution_count": null,
   "metadata": {},
   "outputs": [
    {
     "data": {
      "text/html": [
       "<div>\n",
       "<style scoped>\n",
       "    .dataframe tbody tr th:only-of-type {\n",
       "        vertical-align: middle;\n",
       "    }\n",
       "\n",
       "    .dataframe tbody tr th {\n",
       "        vertical-align: top;\n",
       "    }\n",
       "\n",
       "    .dataframe thead th {\n",
       "        text-align: right;\n",
       "    }\n",
       "</style>\n",
       "<table border=\"1\" class=\"dataframe\">\n",
       "  <thead>\n",
       "    <tr style=\"text-align: right;\">\n",
       "      <th></th>\n",
       "      <th>ride_id</th>\n",
       "      <th>rideable_type</th>\n",
       "      <th>started_at</th>\n",
       "      <th>ended_at</th>\n",
       "      <th>start_station_name</th>\n",
       "      <th>start_station_id</th>\n",
       "      <th>end_station_name</th>\n",
       "      <th>end_station_id</th>\n",
       "      <th>member_casual</th>\n",
       "    </tr>\n",
       "  </thead>\n",
       "  <tbody>\n",
       "    <tr>\n",
       "      <th>0</th>\n",
       "      <td>5CB9DFCECF79AF84</td>\n",
       "      <td>classic_bike</td>\n",
       "      <td>2021-01-01 00:08:33</td>\n",
       "      <td>2021-01-01 00:33:53</td>\n",
       "      <td>Maine Ave &amp; 9th St SW</td>\n",
       "      <td>31646.0</td>\n",
       "      <td>Rosslyn Metro / Wilson Blvd &amp; Ft Myer Dr</td>\n",
       "      <td>31015.0</td>\n",
       "      <td>member</td>\n",
       "    </tr>\n",
       "    <tr>\n",
       "      <th>1</th>\n",
       "      <td>629E059504606547</td>\n",
       "      <td>electric_bike</td>\n",
       "      <td>2021-01-01 00:13:43</td>\n",
       "      <td>2021-01-01 00:29:34</td>\n",
       "      <td>10th &amp; U St NW</td>\n",
       "      <td>31111.0</td>\n",
       "      <td>NaN</td>\n",
       "      <td>NaN</td>\n",
       "      <td>casual</td>\n",
       "    </tr>\n",
       "    <tr>\n",
       "      <th>2</th>\n",
       "      <td>E74069873161EE33</td>\n",
       "      <td>electric_bike</td>\n",
       "      <td>2021-01-01 00:14:32</td>\n",
       "      <td>2021-01-01 00:28:45</td>\n",
       "      <td>17th &amp; Corcoran St NW</td>\n",
       "      <td>31214.0</td>\n",
       "      <td>14th &amp; Belmont St NW</td>\n",
       "      <td>31119.0</td>\n",
       "      <td>member</td>\n",
       "    </tr>\n",
       "    <tr>\n",
       "      <th>3</th>\n",
       "      <td>91F95E512CABC46A</td>\n",
       "      <td>classic_bike</td>\n",
       "      <td>2021-01-01 00:15:45</td>\n",
       "      <td>2021-01-01 00:21:20</td>\n",
       "      <td>Wilson Blvd. &amp; N. Vermont St.</td>\n",
       "      <td>31926.0</td>\n",
       "      <td>Wilson Blvd. &amp; N. Vermont St.</td>\n",
       "      <td>31926.0</td>\n",
       "      <td>member</td>\n",
       "    </tr>\n",
       "    <tr>\n",
       "      <th>4</th>\n",
       "      <td>DA46A05139C0EA2F</td>\n",
       "      <td>classic_bike</td>\n",
       "      <td>2021-01-01 00:17:46</td>\n",
       "      <td>2021-01-01 00:21:00</td>\n",
       "      <td>11th &amp; Park Rd NW</td>\n",
       "      <td>31651.0</td>\n",
       "      <td>14th &amp; Newton St NW</td>\n",
       "      <td>31649.0</td>\n",
       "      <td>member</td>\n",
       "    </tr>\n",
       "  </tbody>\n",
       "</table>\n",
       "</div>"
      ],
      "text/plain": [
       "            ride_id  rideable_type           started_at             ended_at  \\\n",
       "0  5CB9DFCECF79AF84   classic_bike  2021-01-01 00:08:33  2021-01-01 00:33:53   \n",
       "1  629E059504606547  electric_bike  2021-01-01 00:13:43  2021-01-01 00:29:34   \n",
       "2  E74069873161EE33  electric_bike  2021-01-01 00:14:32  2021-01-01 00:28:45   \n",
       "3  91F95E512CABC46A   classic_bike  2021-01-01 00:15:45  2021-01-01 00:21:20   \n",
       "4  DA46A05139C0EA2F   classic_bike  2021-01-01 00:17:46  2021-01-01 00:21:00   \n",
       "\n",
       "              start_station_name start_station_id  \\\n",
       "0          Maine Ave & 9th St SW          31646.0   \n",
       "1                 10th & U St NW          31111.0   \n",
       "2          17th & Corcoran St NW          31214.0   \n",
       "3  Wilson Blvd. & N. Vermont St.          31926.0   \n",
       "4              11th & Park Rd NW          31651.0   \n",
       "\n",
       "                           end_station_name end_station_id member_casual  \n",
       "0  Rosslyn Metro / Wilson Blvd & Ft Myer Dr        31015.0        member  \n",
       "1                                       NaN            NaN        casual  \n",
       "2                      14th & Belmont St NW        31119.0        member  \n",
       "3             Wilson Blvd. & N. Vermont St.        31926.0        member  \n",
       "4                       14th & Newton St NW        31649.0        member  "
      ]
     },
     "execution_count": 8,
     "metadata": {},
     "output_type": "execute_result"
    }
   ],
   "source": [
    "df[string_col].head()"
   ]
  },
  {
   "cell_type": "code",
   "execution_count": 11,
   "metadata": {},
   "outputs": [
    {
     "name": "stdout",
     "output_type": "stream",
     "text": [
      "Unique values before conversion:\n",
      " ride_id               10693997\n",
      "rideable_type                3\n",
      "started_at             9649173\n",
      "ended_at               9638365\n",
      "start_station_name         860\n",
      "start_station_id          1891\n",
      "end_station_name           865\n",
      "end_station_id            1904\n",
      "start_lat               570110\n",
      "start_lng               617671\n",
      "end_lat                 173835\n",
      "end_lng                 183886\n",
      "member_casual                2\n",
      "dtype: int64 \n",
      "\n"
     ]
    }
   ],
   "source": [
    "# Check unique values before conversion\n",
    "unique_values_before = df.nunique()\n",
    "print(\"Unique values before conversion:\\n\", unique_values_before, '\\n')"
   ]
  },
  {
   "cell_type": "code",
   "execution_count": 12,
   "metadata": {},
   "outputs": [
    {
     "name": "stdout",
     "output_type": "stream",
     "text": [
      "Memory Usage before Converting dtypes:\n",
      " Index                       132\n",
      "ride_id               695109805\n",
      "rideable_type         654238494\n",
      "started_at            727191796\n",
      "ended_at              727191796\n",
      "start_station_name    740478725\n",
      "start_station_id      343549594\n",
      "end_station_name      736905216\n",
      "end_station_id        343530364\n",
      "start_lat              85551976\n",
      "start_lng              85551976\n",
      "end_lat                85551976\n",
      "end_lng                85551976\n",
      "member_casual         588169835\n",
      "dtype: int64 \n",
      "\n"
     ]
    }
   ],
   "source": [
    "# Check Memory usage before converting\n",
    "memory_usage = df.memory_usage(deep=True)\n",
    "print(\"Memory Usage before Converting dtypes:\\n\", memory_usage, '\\n')"
   ]
  },
  {
   "cell_type": "code",
   "execution_count": 13,
   "metadata": {},
   "outputs": [],
   "source": [
    "# Copy the dataframe\n",
    "df2 = df.copy()\n",
    "\n",
    "# Convert categorical columns to category type for memory efficiency\n",
    "df2[\"rideable_type\"] = df2[\"rideable_type\"].astype(\"category\")\n",
    "df2[\"start_station_name\"] = df2[\"start_station_name\"].astype(\"category\")\n",
    "df2[\"end_station_name\"] = df2[\"end_station_name\"].astype(\"category\")\n",
    "df2[\"member_casual\"] = df2[\"member_casual\"].astype(\"category\")\n",
    "\n",
    "# Convert started_at and ended_at to datetime for memory efficiency\n",
    "df2['started_at'] = pd.to_datetime(df2['started_at'])\n",
    "df2['ended_at'] = pd.to_datetime(df2['ended_at'])\n",
    "\n",
    "# Regenerate the entire ride_id column with sequential integers and convert it\n",
    "# to a memory-efficient data type (uint32)\n",
    "df2['ride_id'] = pd.Series(range(1, len(df2) + 1), dtype='uint32')"
   ]
  },
  {
   "cell_type": "code",
   "execution_count": 14,
   "metadata": {},
   "outputs": [
    {
     "name": "stdout",
     "output_type": "stream",
     "text": [
      "<class 'pandas.core.frame.DataFrame'>\n",
      "RangeIndex: 10693997 entries, 0 to 10693996\n",
      "Data columns (total 13 columns):\n",
      " #   Column              Dtype         \n",
      "---  ------              -----         \n",
      " 0   ride_id             uint32        \n",
      " 1   rideable_type       category      \n",
      " 2   started_at          datetime64[ns]\n",
      " 3   ended_at            datetime64[ns]\n",
      " 4   start_station_name  category      \n",
      " 5   start_station_id    object        \n",
      " 6   end_station_name    category      \n",
      " 7   end_station_id      object        \n",
      " 8   start_lat           float64       \n",
      " 9   start_lng           float64       \n",
      " 10  end_lat             float64       \n",
      " 11  end_lng             float64       \n",
      " 12  member_casual       category      \n",
      "dtypes: category(4), datetime64[ns](2), float64(4), object(2), uint32(1)\n",
      "memory usage: 754.8+ MB\n",
      "Info of the DataFrame after conversion:\n",
      " None \n",
      "\n"
     ]
    }
   ],
   "source": [
    "# Check info and dtypes after conversion\n",
    "info_after = df2.info()\n",
    "print(\"Info of the DataFrame after conversion:\\n\", info_after, '\\n')"
   ]
  },
  {
   "cell_type": "code",
   "execution_count": 15,
   "metadata": {},
   "outputs": [
    {
     "name": "stdout",
     "output_type": "stream",
     "text": [
      "Unique values after conversion:\n",
      " ride_id               10693997\n",
      "rideable_type                3\n",
      "started_at             9649173\n",
      "ended_at               9638365\n",
      "start_station_name         860\n",
      "start_station_id          1891\n",
      "end_station_name           865\n",
      "end_station_id            1904\n",
      "start_lat               570110\n",
      "start_lng               617671\n",
      "end_lat                 173835\n",
      "end_lng                 183886\n",
      "member_casual                2\n",
      "dtype: int64 \n",
      "\n"
     ]
    }
   ],
   "source": [
    "# Check unique values after conversion\n",
    "unique_values_after = df2.nunique()\n",
    "print(\"Unique values after conversion:\\n\", unique_values_after, '\\n')"
   ]
  },
  {
   "cell_type": "code",
   "execution_count": 16,
   "metadata": {},
   "outputs": [
    {
     "name": "stdout",
     "output_type": "stream",
     "text": [
      "Memory Usage after Converting dtype:\n",
      " Index                       132\n",
      "ride_id                42775988\n",
      "rideable_type          10694288\n",
      "started_at             85551976\n",
      "ended_at               85551976\n",
      "start_station_name     21485201\n",
      "start_station_id      343549594\n",
      "end_station_name       21485559\n",
      "end_station_id        343530364\n",
      "start_lat              85551976\n",
      "start_lng              85551976\n",
      "end_lat                85551976\n",
      "end_lng                85551976\n",
      "member_casual          10694215\n",
      "dtype: int64 \n",
      "\n"
     ]
    }
   ],
   "source": [
    "# Check memory usage after all conversions\n",
    "print(\"Memory Usage after Converting dtype:\\n\", df2.memory_usage(deep=True), '\\n')"
   ]
  },
  {
   "cell_type": "code",
   "execution_count": 17,
   "metadata": {},
   "outputs": [
    {
     "name": "stdout",
     "output_type": "stream",
     "text": [
      "We reduced the in-memory footprint of the dataset to 0.22 of its original size.\n"
     ]
    }
   ],
   "source": [
    "# Calculate how much we reduced the in-memory footprint of the dataset\n",
    "reduction = df2.memory_usage(deep=True).sum() / df.memory_usage(deep=True).sum()\n",
    "print(f\"We reduced the in-memory footprint of the dataset to {reduction:.2f} of its original size.\")"
   ]
  },
  {
   "cell_type": "code",
   "execution_count": 18,
   "metadata": {},
   "outputs": [],
   "source": [
    "#Speichern neue Datei mit niedrigem Storage\n",
    "output_file =\"CBS_2021-2023_Full_minimize_storage.csv\"\n",
    "df2.to_csv(output_file, index=False)  # Neue CSV speichern"
   ]
  },
  {
   "cell_type": "code",
   "execution_count": null,
   "metadata": {},
   "outputs": [
    {
     "name": "stdout",
     "output_type": "stream",
     "text": [
      "Die Datei 'CBS_2021-2023_Full_2000_rows.csv' wurde erfolgreich gespeichert!\n"
     ]
    }
   ],
   "source": [
    "import pandas as pd\n",
    "\n",
    "# Datei einlesen (nur die ersten 2000 Zeilen)\n",
    "input_file = \"CBS_2021-2023_Full.csv\"  # Ersetze mit dem echten Dateinamen\n",
    "output_file = \"CBS_2021-2023_Full_2000_rows.csv\"\n",
    "\n",
    "df = pd.read_csv(input_file, nrows=2000)  # Nur die ersten 2000 Zeilen lesen\n",
    "df.to_csv(output_file, index=False)  # Neue CSV speichern\n",
    "\n",
    "print(f\"Die Datei '{output_file}' wurde erfolgreich gespeichert!\")\n"
   ]
  },
  {
   "cell_type": "code",
   "execution_count": 1,
   "metadata": {},
   "outputs": [
    {
     "name": "stdout",
     "output_type": "stream",
     "text": [
      "Die Datei 'CBS_2021-2023_Full_20_rows.csv' wurde erfolgreich gespeichert!\n"
     ]
    }
   ],
   "source": [
    "import pandas as pd\n",
    "\n",
    "# Datei einlesen (nur die ersten 20 Zeilen)\n",
    "input_file = \"CBS_2021-2023_Full.csv\"  # Ersetze mit dem echten Dateinamen\n",
    "output_file = \"CBS_2021-2023_Full_20_rows.csv\"\n",
    "\n",
    "df = pd.read_csv(input_file, nrows=20)  # Nur die ersten 2000 Zeilen lesen\n",
    "df.to_csv(output_file, index=False)  # Neue CSV speichern\n",
    "\n",
    "print(f\"Die Datei '{output_file}' wurde erfolgreich gespeichert!\")"
   ]
  },
  {
   "cell_type": "markdown",
   "metadata": {},
   "source": [
    "maze letter panther town captain math accuse food craft promote return equip"
   ]
  }
 ],
 "metadata": {
  "kernelspec": {
   "display_name": "EDA",
   "language": "python",
   "name": "python3"
  },
  "language_info": {
   "codemirror_mode": {
    "name": "ipython",
    "version": 3
   },
   "file_extension": ".py",
   "mimetype": "text/x-python",
   "name": "python",
   "nbconvert_exporter": "python",
   "pygments_lexer": "ipython3",
   "version": "3.12.9"
  }
 },
 "nbformat": 4,
 "nbformat_minor": 2
}
