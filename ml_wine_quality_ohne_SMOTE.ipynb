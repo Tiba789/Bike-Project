{
 "cells": [
  {
   "cell_type": "code",
   "execution_count": null,
   "metadata": {},
   "outputs": [],
   "source": [
    "import pandas as pd\n",
    "import numpy as np\n",
    "import matplotlib.pyplot as plt\n",
    "import seaborn as sns\n",
    "white_wine = pd.read_csv(\"winequality-white.csv\", sep =';')\n",
    "red_wine = pd.read_csv(\"winequality-red.csv\", sep =';')\n",
    "# Remove duplicates\n",
    "white_wine= white_wine.drop_duplicates()\n",
    "red_wine= red_wine.drop_duplicates()"
   ]
  },
  {
   "cell_type": "code",
   "execution_count": null,
   "metadata": {},
   "outputs": [],
   "source": [
    "# create new column\n",
    "red_wine['quality_label'] = red_wine['quality'].apply(lambda value: 'low'\n",
    "if value <= 5 else 'medium'\n",
    "if value <= 7 else 'high')\n",
    "white_wine['quality_label'] = white_wine['quality'].apply(lambda value: 'low'\n",
    "if value <= 5 else 'medium'\n",
    "if value <= 7 else 'high')\n",
    "\n",
    "# transform into categorical type\n",
    "red_wine['quality_label'] = pd.Categorical(red_wine['quality_label'], categories=['low', 'medium', 'high'])\n",
    "white_wine['quality_label'] = pd.Categorical(white_wine['quality_label'], categories=['low', 'medium', 'high'])\n"
   ]
  },
  {
   "cell_type": "code",
   "execution_count": null,
   "metadata": {},
   "outputs": [],
   "source": [
    "red_wine[\"wine_type\"]=\"red\"\n",
    "white_wine[\"wine_type\"]=\"white\"\n",
    "\n",
    "all_wine = pd.concat([red_wine, white_wine], axis =0, ignore_index= True)\n",
    "# all_wine"
   ]
  },
  {
   "cell_type": "markdown",
   "metadata": {},
   "source": [
    "Outliers Removal from Dataset"
   ]
  },
  {
   "cell_type": "code",
   "execution_count": null,
   "metadata": {},
   "outputs": [],
   "source": [
    "import pandas as pd\n",
    "import numpy as np\n",
    "\n",
    "# Function to remove unique outliers using IQR\n",
    "def remove_unique_outliers(df):\n",
    "    outlier_indices = set()  # Store unique indices of rows to remove\n",
    "    for col in df.select_dtypes(include=[np.number]).columns:  # Only numeric columns\n",
    "        Q1 = df[col].quantile(0.25)\n",
    "        Q3 = df[col].quantile(0.75)\n",
    "        IQR = Q3 - Q1\n",
    "        S = 1.5 * IQR\n",
    "        LB, UB = Q1 - S, Q3 + S\n",
    "        # Find indices of outliers and store them\n",
    "        outlier_indices.update(df[(df[col] < LB) | (df[col] > UB)].index)\n",
    "\n",
    "    # Remove outliers based on unique indices\n",
    "    filtered_df = df.drop(index=outlier_indices)\n",
    "    return filtered_df\n",
    "\n",
    "# Apply the function to remove outliers from both datasets\n",
    "red_wine_clean = remove_unique_outliers(red_wine)\n",
    "white_wine_clean = remove_unique_outliers(white_wine)\n",
    "\n",
    "# Print the number of remaining rows after outlier removal\n",
    "print(f\"Red Wine - Rows before: {len(red_wine)}, Rows after: {len(red_wine_clean)}\")\n",
    "print(f\"White Wine - Rows before: {len(white_wine)}, Rows after: {len(white_wine_clean)}\")\n"
   ]
  },
  {
   "cell_type": "code",
   "execution_count": null,
   "metadata": {},
   "outputs": [],
   "source": [
    "# Check the distribution of wine quality categories after removing duplicates and outliers\n",
    "\n",
    "# Get counts for each category in Red and White Wine datasets\n",
    "red_quality_counts = red_wine_clean[\"quality_label\"].value_counts()\n",
    "white_quality_counts = white_wine_clean[\"quality_label\"].value_counts()\n",
    "print(red_quality_counts)\n",
    "print(white_quality_counts)\n",
    "# # Create a DataFrame to display the counts\n",
    "# quality_distribution_df = pd.DataFrame({\n",
    "#     \"Red Wine Samples\": red_quality_counts,\n",
    "#     \"White Wine Samples\": white_quality_counts\n",
    "# }).fillna(0)  # Fill missing values with 0 if a category is missing\n",
    "\n",
    "# # Display the results\n",
    "# import ace_tools as tools\n",
    "# tools.display_dataframe_to_user(name=\"Wine Quality Distribution After Cleaning\", dataframe=quality_distribution_df)\n",
    "\n",
    "# # Return the DataFrame for reference\n",
    "# quality_distribution_df\n"
   ]
  },
  {
   "cell_type": "code",
   "execution_count": null,
   "metadata": {},
   "outputs": [],
   "source": [
    "#quality label \n",
    "quality_label_encod = pd.get_dummies(all_wine['quality_label'], dtype=int)\n",
    "\n",
    "all_wine_encod = pd.concat([all_wine, quality_label_encod], axis=1)\n",
    "\n",
    "\n",
    "y = quality_label_encod.idxmax(axis=1) \n",
    "y = y.map({'low': 0, 'medium': 1, 'high': 2}) \n",
    "#print(y)\n",
    "\n",
    "#print(\"Fixed Unique values in y:\", np.unique(y))\n",
    "\n"
   ]
  },
  {
   "cell_type": "code",
   "execution_count": null,
   "metadata": {},
   "outputs": [],
   "source": [
    "# Splitting Define X (features) and y (target)\n",
    "from sklearn.model_selection import train_test_split\n",
    "X = all_wine_encod.drop(columns=['wine_type','quality_label', 'quality','medium','high','low','citric acid','residual sugar','density','pH'], axis=1)\n",
    "\n",
    "X_train, X_test, y_train, y_test = train_test_split(X, y, test_size=0.20, random_state=420)"
   ]
  },
  {
   "cell_type": "code",
   "execution_count": null,
   "metadata": {},
   "outputs": [],
   "source": [
    "# # Daten normalisieren\n",
    "# scaler = StandardScaler()\n",
    "# X_train = scaler.fit_transform(X_train)\n",
    "# X_test = scaler.transform(X_test)\n",
    "\n",
    "\n",
    "from sklearn.preprocessing import MinMaxScaler\n",
    "# Scale features using MinMaxScaler\n",
    "scaler = MinMaxScaler()\n",
    "X_train = scaler.fit_transform(X_train)\n",
    "X_test = scaler.transform(X_test)\n",
    "\n",
    "\n"
   ]
  },
  {
   "cell_type": "code",
   "execution_count": null,
   "metadata": {},
   "outputs": [],
   "source": [
    "# Logistic Regression\n",
    "from sklearn.linear_model import LogisticRegression\n",
    "# define model\n",
    "LR_model = LogisticRegression(max_iter=1000)\n",
    "# fit model\n",
    "LR_model.fit(X_train, y_train)\n",
    "# make predictions\n",
    "LR_preds = LR_model.predict(X_test)\n",
    "\n"
   ]
  },
  {
   "cell_type": "code",
   "execution_count": null,
   "metadata": {},
   "outputs": [],
   "source": [
    "# Random Forest\n",
    "from sklearn.ensemble import RandomForestClassifier\n",
    "# define model\n",
    "#Train Accuracy is 100%\n",
    "#RF_clf = RandomForestClassifier(random_state=420)      \n",
    "\n",
    "RF_clf = RandomForestClassifier(n_estimators=100,       # Anzahl der Bäume im Wald\n",
    "    max_depth=10,           # Maximale Tiefe der Bäume\n",
    "    min_samples_split=5,    # Mindestanzahl der Samples, um einen neuen Split zu erstellen\n",
    "    min_samples_leaf=3,     # Mindestanzahl der Samples in einem Blatt\n",
    "    random_state=420        # Zufallszahl für Reproduzierbarkeit\n",
    ")\n",
    "# fit model\n",
    "RF_clf.fit(X_train, y_train)\n",
    "# make predictions\n",
    "RF_preds = RF_clf.predict(X_test)\n"
   ]
  },
  {
   "cell_type": "code",
   "execution_count": null,
   "metadata": {},
   "outputs": [],
   "source": [
    "#SVC\n",
    "from sklearn.svm import SVC\n",
    "svc_model = SVC(kernel='rbf', C=1.0, gamma='scale')\n",
    "svc_model.fit(X_train, y_train)\n",
    "\n",
    "# Predictions\n",
    "svc_preds = svc_model.predict(X_test)\n"
   ]
  },
  {
   "cell_type": "code",
   "execution_count": null,
   "metadata": {},
   "outputs": [],
   "source": [
    "\n",
    "from sklearn.metrics import accuracy_score \n",
    "\n",
    "# check overall accuracy %\n",
    "\n",
    "LR_acc = accuracy_score(y_test, LR_preds)\n",
    "RF_acc = accuracy_score(y_test, RF_preds)\n",
    "svc_acc= accuracy_score(y_test, svc_preds)\n",
    "\n",
    "\n",
    "train_LR_acc = accuracy_score(y_train, LR_model.predict(X_train))\n",
    "train_RF_acc = accuracy_score(y_train, RF_clf.predict(X_train))\n",
    "train_svc_acc = accuracy_score(y_train, svc_model.predict(X_train))\n",
    "\n",
    "\n",
    "print(\"\\n Train Logistic Regression: \", train_LR_acc,\"\\n Test Logistic Regression: \", LR_acc)\n",
    "print(\"\\n Train Random Forest : \", train_RF_acc, \"\\n Test Random Forest: \", RF_acc)\n",
    "print(\"\\n Train SVC : \", train_svc_acc, \"\\n Test SVC: \", svc_acc)\n",
    "\n",
    "\n",
    "\n"
   ]
  },
  {
   "cell_type": "markdown",
   "metadata": {},
   "source": [
    "Hyperparameter tuning Random Forest"
   ]
  },
  {
   "cell_type": "code",
   "execution_count": null,
   "metadata": {},
   "outputs": [],
   "source": [
    "n_estimators = np.arange(50,110,10)\n",
    "max_depth = np.arange(5, 20, 5)\n",
    "min_samples_split = np.arange(1, 9, 2)\n",
    "min_samples_leaf = np.arange(1, 9, 2)\n",
    "#max_features = [\"sqrt\", \"log2\", None]\n",
    "\n",
    "param_grid = {\n",
    "  'n_estimators': n_estimators,\n",
    "  'max_depth': max_depth,\n",
    "  'min_samples_split': min_samples_split,\n",
    "  'min_samples_leaf':  min_samples_leaf,\n",
    "}\n",
    "\n",
    "param_grid"
   ]
  },
  {
   "cell_type": "code",
   "execution_count": null,
   "metadata": {},
   "outputs": [],
   "source": [
    "from sklearn.model_selection import RandomizedSearchCV\n",
    "\n",
    "# redefine model\n",
    "RF_clf = RandomForestClassifier(random_state=42)\n",
    "\n",
    "RS_grid = RandomizedSearchCV(estimator=RF_clf, param_distributions=param_grid, n_iter=10)\n",
    "RS_grid"
   ]
  },
  {
   "cell_type": "code",
   "execution_count": null,
   "metadata": {},
   "outputs": [],
   "source": [
    "RS_grid.fit(X_train, y_train)"
   ]
  },
  {
   "cell_type": "code",
   "execution_count": null,
   "metadata": {},
   "outputs": [],
   "source": [
    "print(\n",
    "  'best score: ', RS_grid.best_score_,\n",
    "  '\\nparams: ', RS_grid.best_params_\n",
    ")"
   ]
  },
  {
   "cell_type": "code",
   "execution_count": null,
   "metadata": {},
   "outputs": [],
   "source": [
    "import pandas as pd\n",
    "\n",
    "grid_results = pd.concat([\n",
    "  pd.DataFrame(RS_grid.cv_results_[\"params\"]),\n",
    "  pd.DataFrame(RS_grid.cv_results_[\"mean_test_score\"], columns=[\"Accuracy\"])\n",
    "], axis=1)\n",
    "\n",
    "grid_results"
   ]
  }
 ],
 "metadata": {
  "kernelspec": {
   "display_name": "EDA",
   "language": "python",
   "name": "python3"
  },
  "language_info": {
   "codemirror_mode": {
    "name": "ipython",
    "version": 3
   },
   "file_extension": ".py",
   "mimetype": "text/x-python",
   "name": "python",
   "nbconvert_exporter": "python",
   "pygments_lexer": "ipython3",
   "version": "3.12.9"
  }
 },
 "nbformat": 4,
 "nbformat_minor": 2
}
